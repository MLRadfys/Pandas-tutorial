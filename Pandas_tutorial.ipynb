{
 "cells": [
  {
   "cell_type": "markdown",
   "id": "98b5dda3-07ae-4b55-a8ad-9540a515237d",
   "metadata": {
    "tags": []
   },
   "source": [
    "# Pandas Tutorial Part 1\n",
    "\n",
    "This is the first part of a Pandas tutorial, introducing concepts like \n",
    "\n",
    "- Series and DataFrames\n",
    "- Indexing using loc and iloc\n",
    "- Conditional operations\n",
    "- Generation of basic statistical summaries\n",
    "- Grouping and \n",
    "- Sorting"
   ]
  },
  {
   "cell_type": "markdown",
   "id": "48e62493-4569-4708-a879-0b82b580e875",
   "metadata": {},
   "source": [
    "### Table of Contents\n",
    "\n",
    "* [1. Introduction](#chapter1)\n",
    "    * [1.1 What is Pandas?](#section_1_1)\n",
    "    * [1.2 Installing Pandas](#Section_1_2)\n",
    "        * [1.2.1 Installing Pandas with Anaconda](#section_1_2_1)\n",
    "        * [1.2.2 Installing Pandas with PyPI](#section_1_2_2)\n",
    "* [2. Series and DataFrames](#chapter2)\n",
    "    * [2.1 Creating DataFrames](#section_2_1)\n",
    "    * [2.2 Properties of DataFrames](#section_2_2)\n",
    "        * [2.2.1 df.shape](#section_2_2_1)\n",
    "        * [2.2.2 df.head and df.tail](#section_2_2_2)\n",
    "        * [2.2.3 Extracting a DataFrame range](#section_2_2_3)\n",
    "    * [2.3 Accessing columns](#section_2_3)\n",
    "        * [2.3.1 Basic column operations](#section_2_3_1)\n",
    "    * [2.4 Accessing rows with loc and iloc](#section_2_4)\n",
    "* [3. Group data using GroupBy](#chapter3)\n",
    "    * [3.1 Creating a group object](#section_3_1)\n",
    "    * [3.2 Grouping with multiple indexes](#section_3_2)\n",
    "* [4. Concatenation](#chapter4)\n",
    "    * [4.1 Concatenate Series](#section_4_1)\n",
    "    * [4.2 Concatenate DataFrames](#section_4_2)  \n",
    "         * [4.2.1 Concatenate DataFrames by rows](#section_4_2_1)\n",
    "         * [4.2.2 Concatenate DataFrames by columns](#section_4_2_2)\n",
    "         * [4.2.3 Order matters! Rearranging column orders...](#section_4_2_3)\n",
    "     * [4.4 Concatenating multiple DataFrames and Series](#section_4_4) \n",
    "* [5. Sorting data in a DataFrame](#chapter5)\n",
    "    * [5.1 Sort columns ](#section_5_1)\n",
    "    * [5.2 Sorting multiple columns](#section_5_2)   \n",
    "    * [5.3 Missing values](#section_5_3)\n",
    "* [6. Conclusion](#chapter6)\n"
   ]
  },
  {
   "cell_type": "markdown",
   "id": "c0e93c8e-31c6-46f5-b776-3be6d8544c22",
   "metadata": {
    "tags": []
   },
   "source": [
    "# 1. Introduction <a class=\"anchor\" id=\"chapter1\"></a>"
   ]
  },
  {
   "cell_type": "markdown",
   "id": "1aafffa6-576c-40ae-b004-728708a2b56b",
   "metadata": {
    "tags": []
   },
   "source": [
    "## 1.1 What is Pandas? <a class=\"anchor\" id=\"section_1_1\"></a>\n",
    "\n",
    "Todays aritificial  intelligence (AI) algorithms rely on data, and often a lot of it. Preparing data before training an algorithm or fitting a model is a crucial step.\n",
    "Pandas is a Python library which deals with tabular and sequential data and can be used to manipulate, clean, read and write data.\n",
    "Pandas converts data into a either a 1D structure, called for a *Series*, or a 2D structure, called a *DataFrame*, which is a table-like structure consisting of labeled rows and columns. A DataFrame can be manipulated and analyzed and stored as several different file types (e.g. .csv or excel).\n",
    "\n",
    "Pandas is fast, relatively easy to learn, and the best thing: It has Python support!"
   ]
  },
  {
   "cell_type": "markdown",
   "id": "d5e6c0a3-86c0-4337-a1cb-4551b9a59914",
   "metadata": {
    "tags": []
   },
   "source": [
    "## 1.2 Installing Pandas <a class=\"anchor\" id=\"section_1_2\"></a>\n",
    "\n",
    "### 1.2.1 Installing Pandas with Anaconda <a class=\"anchor\" id=\"section_1_2_1\"></a>\n",
    "\n",
    "To install Pandas using the Anaconda environment, type:\n",
    "\n",
    "```python\n",
    "conda install Pandas\n",
    "```\n",
    "\n",
    "For a specific Pandas version, you can use:\n",
    "\n",
    "```python\n",
    "conda install Pandas = 1.4.1\n",
    "```\n",
    "\n",
    "### 1.2.2 Installing Pandas with PyPI <a class=\"anchor\" id=\"section_1_2_2\"></a>\n",
    "\n",
    "To install Pandas using pip:\n",
    "\n",
    "```python\n",
    "pip3 install Pandas\n",
    "```\n",
    "\n",
    "or \n",
    "\n",
    "```python\n",
    "pip3 install Pandas = 1.4.1\n",
    "```\n",
    "\n",
    "for a specific version of the library."
   ]
  },
  {
   "cell_type": "markdown",
   "id": "bdb8ea35-fae2-4111-9b0d-719e89d51c32",
   "metadata": {
    "tags": []
   },
   "source": [
    "# 2. Series and DataFrames <a class=\"anchor\" id=\"chapter2\"></a>"
   ]
  },
  {
   "cell_type": "markdown",
   "id": "412eb0fd-e595-4509-b778-63e72a74a34b",
   "metadata": {},
   "source": [
    "## 2.1 Series <a class=\"anchor\" id=\"section_2_1\"></a>\n",
    "Lets dive into Pandas and create our first Series. A series is a 1D structure that comprises key-value pair. If you a familier with the Python programming language, a Series should remind you of a dictionary. "
   ]
  },
  {
   "cell_type": "code",
   "execution_count": 3,
   "id": "95b88526-dd92-437a-ac55-d6d07de6fa4a",
   "metadata": {},
   "outputs": [],
   "source": [
    "# import pandas\n",
    "import pandas as pd\n",
    "# you don't need this to work with pandas, but I will use the display function in some parts of the notebook\n",
    "from IPython.display import display"
   ]
  },
  {
   "cell_type": "code",
   "execution_count": 4,
   "id": "a9ac224e-2416-4550-a59f-33548b1f81e0",
   "metadata": {},
   "outputs": [
    {
     "data": {
      "text/plain": [
       "0     apples\n",
       "1    oranges\n",
       "2    bananas\n",
       "dtype: object"
      ]
     },
     "execution_count": 86,
     "metadata": {},
     "output_type": "execute_result"
    }
   ],
   "source": [
    "# create a Series\n",
    "\n",
    "fruits = pd.Series([\"apples\", \"oranges\", \"bananas\"])\n",
    "\n",
    "fruits"
   ]
  },
  {
   "cell_type": "markdown",
   "id": "f657b475-74e3-47b5-9a47-245c9fec4654",
   "metadata": {},
   "source": [
    "You can see that the keys in the Series are values from 0-1, while the values are the name of the fruits. A Series can also be generated for other datatype, like in example float or integer values."
   ]
  },
  {
   "cell_type": "code",
   "execution_count": 5,
   "id": "e5633033-ecfb-4875-8b8a-c591e60f3698",
   "metadata": {},
   "outputs": [
    {
     "name": "stdout",
     "output_type": "stream",
     "text": [
      "TEMPERATURE IN CELSIUS\n",
      "a    32.6\n",
      "b    34.1\n",
      "c    28.0\n",
      "d    35.9\n",
      "dtype: float64 \n",
      "\n",
      "FACTORS OF 12 SERIES\n",
      "0     1\n",
      "1     2\n",
      "2     4\n",
      "3     6\n",
      "4    12\n",
      "Name: factors of 12, dtype: int64 \n",
      "\n"
     ]
    }
   ],
   "source": [
    "#FLOAT SERIES\n",
    "temperature = pd.Series([32.6, 34.1, 28.0, 35.9], index = [\"a\",\"b\",\"c\",\"d\"])\n",
    "\n",
    "print(\"TEMPERATURE IN CELSIUS\")\n",
    "print(temperature, \"\\n\")\n",
    "\n",
    "#INTEGER SERIES\n",
    "factors_of_12 = pd.Series([1,2,4,6,12], name = \"factors of 12\")\n",
    "\n",
    "print(\"FACTORS OF 12 SERIES\")\n",
    "print(factors_of_12, \"\\n\")"
   ]
  },
  {
   "cell_type": "markdown",
   "id": "350f1a59-b316-4f34-a8e9-52b95a15a2f4",
   "metadata": {
    "tags": []
   },
   "source": [
    "## 2.2 DataFrames <a class=\"anchor\" id = \"section_2_2\" ></a>\n",
    "\n",
    "A DataFrame representes a 2D table consisting of rows and columns. There are several differnt ways to create a DataFrame, namely using:\n",
    "\n",
    "- dictionary data\n",
    "- list data \n",
    "- lists of dictionaries or \n",
    "- from files."
   ]
  },
  {
   "cell_type": "markdown",
   "id": "3db7ef0f-0b59-4953-8cd4-d086a9c5a2d1",
   "metadata": {},
   "source": [
    "We start with **dictionary data**:"
   ]
  },
  {
   "cell_type": "code",
   "execution_count": 6,
   "id": "a4cff504-7eeb-4569-90e8-ec180966927c",
   "metadata": {},
   "outputs": [
    {
     "data": {
      "text/html": [
       "<div>\n",
       "<style scoped>\n",
       "    .dataframe tbody tr th:only-of-type {\n",
       "        vertical-align: middle;\n",
       "    }\n",
       "\n",
       "    .dataframe tbody tr th {\n",
       "        vertical-align: top;\n",
       "    }\n",
       "\n",
       "    .dataframe thead th {\n",
       "        text-align: right;\n",
       "    }\n",
       "</style>\n",
       "<table border=\"1\" class=\"dataframe\">\n",
       "  <thead>\n",
       "    <tr style=\"text-align: right;\">\n",
       "      <th></th>\n",
       "      <th>Brand</th>\n",
       "      <th>Price</th>\n",
       "    </tr>\n",
       "  </thead>\n",
       "  <tbody>\n",
       "    <tr>\n",
       "      <th>0</th>\n",
       "      <td>Honda</td>\n",
       "      <td>22000</td>\n",
       "    </tr>\n",
       "    <tr>\n",
       "      <th>1</th>\n",
       "      <td>Toyota</td>\n",
       "      <td>25000</td>\n",
       "    </tr>\n",
       "    <tr>\n",
       "      <th>2</th>\n",
       "      <td>Ford</td>\n",
       "      <td>27000</td>\n",
       "    </tr>\n",
       "    <tr>\n",
       "      <th>3</th>\n",
       "      <td>Audi</td>\n",
       "      <td>35000</td>\n",
       "    </tr>\n",
       "  </tbody>\n",
       "</table>\n",
       "</div>"
      ],
      "text/plain": [
       "    Brand  Price\n",
       "0   Honda  22000\n",
       "1  Toyota  25000\n",
       "2    Ford  27000\n",
       "3    Audi  35000"
      ]
     },
     "execution_count": 88,
     "metadata": {},
     "output_type": "execute_result"
    }
   ],
   "source": [
    "# import pandas\n",
    "import pandas as pd\n",
    "\n",
    "cars = {\n",
    "        'Brand': ['Honda', 'Toyota', 'Ford', 'Audi'],\n",
    "        'Price': [22000,25000,27000,35000]\n",
    "       }\n",
    "\n",
    "df = pd.DataFrame(cars)\n",
    "\n",
    "df"
   ]
  },
  {
   "cell_type": "markdown",
   "id": "4d8668ad-9c8f-420d-8fb2-15081a8601b3",
   "metadata": {},
   "source": [
    "As mentioned above, we can also use **list data** to create a DataFrame object:"
   ]
  },
  {
   "cell_type": "code",
   "execution_count": 7,
   "id": "729f79c7-4f02-4a8a-8363-9ed1eae7f8c0",
   "metadata": {},
   "outputs": [
    {
     "data": {
      "text/html": [
       "<div>\n",
       "<style scoped>\n",
       "    .dataframe tbody tr th:only-of-type {\n",
       "        vertical-align: middle;\n",
       "    }\n",
       "\n",
       "    .dataframe tbody tr th {\n",
       "        vertical-align: top;\n",
       "    }\n",
       "\n",
       "    .dataframe thead th {\n",
       "        text-align: right;\n",
       "    }\n",
       "</style>\n",
       "<table border=\"1\" class=\"dataframe\">\n",
       "  <thead>\n",
       "    <tr style=\"text-align: right;\">\n",
       "      <th></th>\n",
       "      <th>0</th>\n",
       "      <th>1</th>\n",
       "    </tr>\n",
       "  </thead>\n",
       "  <tbody>\n",
       "    <tr>\n",
       "      <th>0</th>\n",
       "      <td>Honda</td>\n",
       "      <td>22000</td>\n",
       "    </tr>\n",
       "    <tr>\n",
       "      <th>1</th>\n",
       "      <td>Toyota</td>\n",
       "      <td>25000</td>\n",
       "    </tr>\n",
       "    <tr>\n",
       "      <th>2</th>\n",
       "      <td>Ford</td>\n",
       "      <td>27000</td>\n",
       "    </tr>\n",
       "    <tr>\n",
       "      <th>3</th>\n",
       "      <td>Audi</td>\n",
       "      <td>35000</td>\n",
       "    </tr>\n",
       "  </tbody>\n",
       "</table>\n",
       "</div>"
      ],
      "text/plain": [
       "        0      1\n",
       "0   Honda  22000\n",
       "1  Toyota  25000\n",
       "2    Ford  27000\n",
       "3    Audi  35000"
      ]
     },
     "execution_count": 89,
     "metadata": {},
     "output_type": "execute_result"
    }
   ],
   "source": [
    "cars = ['Honda', 'Toyota', 'Ford', 'Audi']\n",
    "prices = [22000,25000,27000,35000]\n",
    "\n",
    "df = pd.DataFrame(list(zip(cars, prices)))\n",
    "\n",
    "df"
   ]
  },
  {
   "cell_type": "markdown",
   "id": "8d7eb106-89cd-47e7-87d4-88c9c1321219",
   "metadata": {},
   "source": [
    "We can see that the data in the DataFrame looks the same as in the dictionary case. The only difference between these two is that the columns are not labeled. Instead they are automatically indexed, from $i =0 ... n$ columns.\n",
    "\n",
    "To add columns names, we can use the DataFrames columns variable, which should be provided as a list."
   ]
  },
  {
   "cell_type": "code",
   "execution_count": 8,
   "id": "24e552db-72d5-4c0c-98c3-e80598688803",
   "metadata": {},
   "outputs": [
    {
     "data": {
      "text/html": [
       "<div>\n",
       "<style scoped>\n",
       "    .dataframe tbody tr th:only-of-type {\n",
       "        vertical-align: middle;\n",
       "    }\n",
       "\n",
       "    .dataframe tbody tr th {\n",
       "        vertical-align: top;\n",
       "    }\n",
       "\n",
       "    .dataframe thead th {\n",
       "        text-align: right;\n",
       "    }\n",
       "</style>\n",
       "<table border=\"1\" class=\"dataframe\">\n",
       "  <thead>\n",
       "    <tr style=\"text-align: right;\">\n",
       "      <th></th>\n",
       "      <th>Brand</th>\n",
       "      <th>Price</th>\n",
       "    </tr>\n",
       "  </thead>\n",
       "  <tbody>\n",
       "    <tr>\n",
       "      <th>0</th>\n",
       "      <td>Honda</td>\n",
       "      <td>22000</td>\n",
       "    </tr>\n",
       "    <tr>\n",
       "      <th>1</th>\n",
       "      <td>Toyota</td>\n",
       "      <td>25000</td>\n",
       "    </tr>\n",
       "    <tr>\n",
       "      <th>2</th>\n",
       "      <td>Ford</td>\n",
       "      <td>27000</td>\n",
       "    </tr>\n",
       "    <tr>\n",
       "      <th>3</th>\n",
       "      <td>Audi</td>\n",
       "      <td>35000</td>\n",
       "    </tr>\n",
       "  </tbody>\n",
       "</table>\n",
       "</div>"
      ],
      "text/plain": [
       "    Brand  Price\n",
       "0   Honda  22000\n",
       "1  Toyota  25000\n",
       "2    Ford  27000\n",
       "3    Audi  35000"
      ]
     },
     "execution_count": 90,
     "metadata": {},
     "output_type": "execute_result"
    }
   ],
   "source": [
    "cars = ['Honda', 'Toyota', 'Ford', 'Audi']\n",
    "prices = [22000,25000,27000,35000]\n",
    "\n",
    "df = pd.DataFrame(list(zip(cars, prices)), columns = ['Brand', 'Price'])\n",
    "\n",
    "df"
   ]
  },
  {
   "cell_type": "markdown",
   "id": "3ae1be22-c7e6-4973-aa2d-25fb2391b8e7",
   "metadata": {},
   "source": [
    "Now lets create a DataFrame from **lists of dictionaries**. The keys of the dictionary will become the columns, while the values become the values in the DataFrame."
   ]
  },
  {
   "cell_type": "code",
   "execution_count": 9,
   "id": "e9f77a2e-5a53-4627-b541-3483d3b759a7",
   "metadata": {},
   "outputs": [
    {
     "data": {
      "text/html": [
       "<div>\n",
       "<style scoped>\n",
       "    .dataframe tbody tr th:only-of-type {\n",
       "        vertical-align: middle;\n",
       "    }\n",
       "\n",
       "    .dataframe tbody tr th {\n",
       "        vertical-align: top;\n",
       "    }\n",
       "\n",
       "    .dataframe thead th {\n",
       "        text-align: right;\n",
       "    }\n",
       "</style>\n",
       "<table border=\"1\" class=\"dataframe\">\n",
       "  <thead>\n",
       "    <tr style=\"text-align: right;\">\n",
       "      <th></th>\n",
       "      <th>Brand</th>\n",
       "      <th>Price</th>\n",
       "      <th>color</th>\n",
       "    </tr>\n",
       "  </thead>\n",
       "  <tbody>\n",
       "    <tr>\n",
       "      <th>0</th>\n",
       "      <td>Honda</td>\n",
       "      <td>22000</td>\n",
       "      <td>black</td>\n",
       "    </tr>\n",
       "    <tr>\n",
       "      <th>1</th>\n",
       "      <td>Toyota</td>\n",
       "      <td>25000</td>\n",
       "      <td>blue</td>\n",
       "    </tr>\n",
       "    <tr>\n",
       "      <th>2</th>\n",
       "      <td>Ford</td>\n",
       "      <td>27000</td>\n",
       "      <td>red</td>\n",
       "    </tr>\n",
       "    <tr>\n",
       "      <th>3</th>\n",
       "      <td>Audi</td>\n",
       "      <td>35000</td>\n",
       "      <td>silver</td>\n",
       "    </tr>\n",
       "  </tbody>\n",
       "</table>\n",
       "</div>"
      ],
      "text/plain": [
       "    Brand  Price   color\n",
       "0   Honda  22000   black\n",
       "1  Toyota  25000    blue\n",
       "2    Ford  27000     red\n",
       "3    Audi  35000  silver"
      ]
     },
     "execution_count": 91,
     "metadata": {},
     "output_type": "execute_result"
    }
   ],
   "source": [
    "df_dictlist = [{'Brand': 'Honda', 'Price': 22000, 'color': 'black'},\n",
    "           {'Brand': 'Toyota', 'Price': 25000, 'color': 'blue'},\n",
    "           {'Brand': 'Ford', 'Price': 27000, 'color': 'red'},\n",
    "           {'Brand': 'Audi', 'Price': 35000, 'color': 'silver'}]\n",
    "\n",
    "df = pd.DataFrame(df_dictlist)\n",
    "\n",
    "df"
   ]
  },
  {
   "cell_type": "markdown",
   "id": "8a466333-5f0d-49c8-b8d4-38430b81d808",
   "metadata": {},
   "source": [
    "The last option I want to show is how to create a DataFrame object from a **.csv or text file**. For that, I prepared a .tx file (cars.txt) with cars, prices and brands as we have seen in the above example."
   ]
  },
  {
   "cell_type": "code",
   "execution_count": 10,
   "id": "d15f1853-fd4e-4197-a4bf-52936f2a43f7",
   "metadata": {},
   "outputs": [
    {
     "data": {
      "text/html": [
       "<div>\n",
       "<style scoped>\n",
       "    .dataframe tbody tr th:only-of-type {\n",
       "        vertical-align: middle;\n",
       "    }\n",
       "\n",
       "    .dataframe tbody tr th {\n",
       "        vertical-align: top;\n",
       "    }\n",
       "\n",
       "    .dataframe thead th {\n",
       "        text-align: right;\n",
       "    }\n",
       "</style>\n",
       "<table border=\"1\" class=\"dataframe\">\n",
       "  <thead>\n",
       "    <tr style=\"text-align: right;\">\n",
       "      <th></th>\n",
       "      <th>Brand</th>\n",
       "      <th>Price</th>\n",
       "      <th>color</th>\n",
       "    </tr>\n",
       "  </thead>\n",
       "  <tbody>\n",
       "    <tr>\n",
       "      <th>0</th>\n",
       "      <td>Honda</td>\n",
       "      <td>22000</td>\n",
       "      <td>black</td>\n",
       "    </tr>\n",
       "    <tr>\n",
       "      <th>1</th>\n",
       "      <td>Toyota</td>\n",
       "      <td>25000</td>\n",
       "      <td>blue</td>\n",
       "    </tr>\n",
       "    <tr>\n",
       "      <th>2</th>\n",
       "      <td>Ford</td>\n",
       "      <td>27000</td>\n",
       "      <td>red</td>\n",
       "    </tr>\n",
       "    <tr>\n",
       "      <th>3</th>\n",
       "      <td>Audi</td>\n",
       "      <td>35000</td>\n",
       "      <td>silver</td>\n",
       "    </tr>\n",
       "  </tbody>\n",
       "</table>\n",
       "</div>"
      ],
      "text/plain": [
       "    Brand  Price   color\n",
       "0   Honda  22000   black\n",
       "1  Toyota  25000    blue\n",
       "2    Ford  27000     red\n",
       "3    Audi  35000  silver"
      ]
     },
     "execution_count": 92,
     "metadata": {},
     "output_type": "execute_result"
    }
   ],
   "source": [
    "df = pd.read_csv('cars.txt')\n",
    "df"
   ]
  },
  {
   "cell_type": "markdown",
   "id": "eba76561-cb42-4e71-aff9-21ccd87e0ab7",
   "metadata": {},
   "source": [
    "## 2.2 Properties of DataFrames <a class=\"anchor\" id=\"section_2_2\"></a>"
   ]
  },
  {
   "cell_type": "markdown",
   "id": "95db84db-6c3e-4666-868a-153fcb43de14",
   "metadata": {},
   "source": [
    "DataFrames have some basic properties and functionality. We can look at different attributes, such as the size (shape) of a DataFrame, we can print the first (or the last) $n$ rows, look at the maximum and minimum values, extract data by indexing and so on..."
   ]
  },
  {
   "cell_type": "markdown",
   "id": "61b419c5-7ac9-4634-bdeb-54de5ca6b439",
   "metadata": {},
   "source": [
    "### 2.2.1 df.shape <a class=\"anchor\" id=\"section_2_2_1\"></a>\n",
    "\n",
    "Lets look at the shape of the car DataFrame."
   ]
  },
  {
   "cell_type": "code",
   "execution_count": 11,
   "id": "442402cd-3f42-4fae-8efa-1c43e38bf144",
   "metadata": {},
   "outputs": [
    {
     "name": "stdout",
     "output_type": "stream",
     "text": [
      "(4, 3)\n"
     ]
    }
   ],
   "source": [
    "print(df.shape)"
   ]
  },
  {
   "cell_type": "markdown",
   "id": "0ef362c8-4762-410b-b96d-f4c89d360362",
   "metadata": {},
   "source": [
    "The result is a tuple indicating that our DataFrame as 4 rows and 2 columns"
   ]
  },
  {
   "cell_type": "markdown",
   "id": "77a06b1d-8daa-4d0b-a3e1-5381f5074087",
   "metadata": {},
   "source": [
    "### 2.2.2 df.head and df.tail <a class=\"anchor\" id=\"section_2_2_2\"></a>\n",
    "\n",
    "Sometimes we just want to check some of the entries in the DataFrame. I quick way of doing this is by using the head() and tail() functions.\n",
    "head() returns the $n$ first rows, while tail() returns the $n$ last rows. Both function takes an integer variable as its input, which is the number of rows we want to extract."
   ]
  },
  {
   "cell_type": "code",
   "execution_count": 12,
   "id": "bd15db74-bd28-4f79-a04d-94b4f6466ce0",
   "metadata": {},
   "outputs": [
    {
     "data": {
      "text/html": [
       "<div>\n",
       "<style scoped>\n",
       "    .dataframe tbody tr th:only-of-type {\n",
       "        vertical-align: middle;\n",
       "    }\n",
       "\n",
       "    .dataframe tbody tr th {\n",
       "        vertical-align: top;\n",
       "    }\n",
       "\n",
       "    .dataframe thead th {\n",
       "        text-align: right;\n",
       "    }\n",
       "</style>\n",
       "<table border=\"1\" class=\"dataframe\">\n",
       "  <thead>\n",
       "    <tr style=\"text-align: right;\">\n",
       "      <th></th>\n",
       "      <th>Brand</th>\n",
       "      <th>Price</th>\n",
       "      <th>color</th>\n",
       "    </tr>\n",
       "  </thead>\n",
       "  <tbody>\n",
       "    <tr>\n",
       "      <th>0</th>\n",
       "      <td>Honda</td>\n",
       "      <td>22000</td>\n",
       "      <td>black</td>\n",
       "    </tr>\n",
       "    <tr>\n",
       "      <th>1</th>\n",
       "      <td>Toyota</td>\n",
       "      <td>25000</td>\n",
       "      <td>blue</td>\n",
       "    </tr>\n",
       "  </tbody>\n",
       "</table>\n",
       "</div>"
      ],
      "text/plain": [
       "    Brand  Price  color\n",
       "0   Honda  22000  black\n",
       "1  Toyota  25000   blue"
      ]
     },
     "execution_count": 94,
     "metadata": {},
     "output_type": "execute_result"
    }
   ],
   "source": [
    "# print the first n rows\n",
    "\n",
    "df.head(2)"
   ]
  },
  {
   "cell_type": "code",
   "execution_count": 13,
   "id": "fa4dff07-c7e9-4c7f-b4e1-f63d75078ca8",
   "metadata": {},
   "outputs": [
    {
     "data": {
      "text/html": [
       "<div>\n",
       "<style scoped>\n",
       "    .dataframe tbody tr th:only-of-type {\n",
       "        vertical-align: middle;\n",
       "    }\n",
       "\n",
       "    .dataframe tbody tr th {\n",
       "        vertical-align: top;\n",
       "    }\n",
       "\n",
       "    .dataframe thead th {\n",
       "        text-align: right;\n",
       "    }\n",
       "</style>\n",
       "<table border=\"1\" class=\"dataframe\">\n",
       "  <thead>\n",
       "    <tr style=\"text-align: right;\">\n",
       "      <th></th>\n",
       "      <th>Brand</th>\n",
       "      <th>Price</th>\n",
       "      <th>color</th>\n",
       "    </tr>\n",
       "  </thead>\n",
       "  <tbody>\n",
       "    <tr>\n",
       "      <th>2</th>\n",
       "      <td>Ford</td>\n",
       "      <td>27000</td>\n",
       "      <td>red</td>\n",
       "    </tr>\n",
       "    <tr>\n",
       "      <th>3</th>\n",
       "      <td>Audi</td>\n",
       "      <td>35000</td>\n",
       "      <td>silver</td>\n",
       "    </tr>\n",
       "  </tbody>\n",
       "</table>\n",
       "</div>"
      ],
      "text/plain": [
       "  Brand  Price   color\n",
       "2  Ford  27000     red\n",
       "3  Audi  35000  silver"
      ]
     },
     "execution_count": 95,
     "metadata": {},
     "output_type": "execute_result"
    }
   ],
   "source": [
    "# print the last n rows\n",
    "\n",
    "df.tail(2)"
   ]
  },
  {
   "cell_type": "markdown",
   "id": "10d57cc8-cecb-4c73-af24-216f59fbab48",
   "metadata": {},
   "source": [
    "### 2.2.3 Extracting a DataFrame range <a class=\"anchor\" id=\"section_2_2_3\"></a>\n",
    "\n",
    "We can also pick a specific range of rows we want to extract. If you are familiar with numpy, you will recognize this type of indexing. "
   ]
  },
  {
   "cell_type": "code",
   "execution_count": 14,
   "id": "b6023590-3c59-43c5-a2bf-f02e5b506993",
   "metadata": {},
   "outputs": [
    {
     "data": {
      "text/html": [
       "<div>\n",
       "<style scoped>\n",
       "    .dataframe tbody tr th:only-of-type {\n",
       "        vertical-align: middle;\n",
       "    }\n",
       "\n",
       "    .dataframe tbody tr th {\n",
       "        vertical-align: top;\n",
       "    }\n",
       "\n",
       "    .dataframe thead th {\n",
       "        text-align: right;\n",
       "    }\n",
       "</style>\n",
       "<table border=\"1\" class=\"dataframe\">\n",
       "  <thead>\n",
       "    <tr style=\"text-align: right;\">\n",
       "      <th></th>\n",
       "      <th>Brand</th>\n",
       "      <th>Price</th>\n",
       "      <th>color</th>\n",
       "    </tr>\n",
       "  </thead>\n",
       "  <tbody>\n",
       "    <tr>\n",
       "      <th>2</th>\n",
       "      <td>Ford</td>\n",
       "      <td>27000</td>\n",
       "      <td>red</td>\n",
       "    </tr>\n",
       "    <tr>\n",
       "      <th>3</th>\n",
       "      <td>Audi</td>\n",
       "      <td>35000</td>\n",
       "      <td>silver</td>\n",
       "    </tr>\n",
       "  </tbody>\n",
       "</table>\n",
       "</div>"
      ],
      "text/plain": [
       "  Brand  Price   color\n",
       "2  Ford  27000     red\n",
       "3  Audi  35000  silver"
      ]
     },
     "execution_count": 96,
     "metadata": {},
     "output_type": "execute_result"
    }
   ],
   "source": [
    "#Exract row 2 - 4 from the DataFrame\n",
    "\n",
    "df[2:4]"
   ]
  },
  {
   "cell_type": "markdown",
   "id": "fba77fc2-6aeb-4487-8d43-105801fef6cf",
   "metadata": {},
   "source": [
    "## 2.3 Accessing columns <a class=\"anchor\" id=\"section_2_3\"></a>\n",
    " \n",
    "When we read an unknown dataset from a textfile, we have gain insight about the dataset. One way to start is by extracting the columns, to get information about column names or units of measurement. Columns can be extracted by using the *df.columns* function."
   ]
  },
  {
   "cell_type": "code",
   "execution_count": 15,
   "id": "ca8a3e46-2ce7-4e2f-a710-23ff2010a1c4",
   "metadata": {},
   "outputs": [
    {
     "data": {
      "text/plain": [
       "Index(['Brand', 'Price', 'color'], dtype='object')"
      ]
     },
     "execution_count": 97,
     "metadata": {},
     "output_type": "execute_result"
    }
   ],
   "source": [
    "# Get the column names\n",
    "df.columns"
   ]
  },
  {
   "cell_type": "markdown",
   "id": "6beea6e1-bd4f-4faf-a906-9e58626b30bf",
   "metadata": {},
   "source": [
    "Once we have information about the column names, we can use them to access individual columns."
   ]
  },
  {
   "cell_type": "code",
   "execution_count": 16,
   "id": "b355f383-2c2f-40a7-b2c1-643dd4b032a7",
   "metadata": {},
   "outputs": [
    {
     "name": "stdout",
     "output_type": "stream",
     "text": [
      "0     Honda\n",
      "1    Toyota\n",
      "2      Ford\n",
      "3      Audi\n",
      "Name: Brand, dtype: object\n",
      "0     black\n",
      "1      blue\n",
      "2       red\n",
      "3    silver\n",
      "Name: color, dtype: object\n"
     ]
    }
   ],
   "source": [
    "# Get specific column by name\n",
    "print(df.Brand)\n",
    "print(df.color)"
   ]
  },
  {
   "cell_type": "code",
   "execution_count": 17,
   "id": "33f798d1-a9d8-4736-ae5b-8ff57f54d7d6",
   "metadata": {},
   "outputs": [
    {
     "name": "stdout",
     "output_type": "stream",
     "text": [
      "0     Honda\n",
      "1    Toyota\n",
      "2      Ford\n",
      "3      Audi\n",
      "Name: Brand, dtype: object\n",
      "0    22000\n",
      "1    25000\n",
      "2    27000\n",
      "3    35000\n",
      "Name: Price, dtype: int64\n"
     ]
    }
   ],
   "source": [
    "# A different way to access the columns by name\n",
    "\n",
    "print(df[\"Brand\"])\n",
    "print(df[\"Price\"])"
   ]
  },
  {
   "cell_type": "markdown",
   "id": "f134a0d5-49a5-480f-841b-dbc501c88764",
   "metadata": {},
   "source": [
    "**Note:** You can also access two or more columns simultaneously-"
   ]
  },
  {
   "cell_type": "code",
   "execution_count": 18,
   "id": "e98cce25-5bf8-43ea-8fe3-2004ec8f2d14",
   "metadata": {},
   "outputs": [
    {
     "data": {
      "text/html": [
       "<div>\n",
       "<style scoped>\n",
       "    .dataframe tbody tr th:only-of-type {\n",
       "        vertical-align: middle;\n",
       "    }\n",
       "\n",
       "    .dataframe tbody tr th {\n",
       "        vertical-align: top;\n",
       "    }\n",
       "\n",
       "    .dataframe thead th {\n",
       "        text-align: right;\n",
       "    }\n",
       "</style>\n",
       "<table border=\"1\" class=\"dataframe\">\n",
       "  <thead>\n",
       "    <tr style=\"text-align: right;\">\n",
       "      <th></th>\n",
       "      <th>Brand</th>\n",
       "      <th>Price</th>\n",
       "    </tr>\n",
       "  </thead>\n",
       "  <tbody>\n",
       "    <tr>\n",
       "      <th>0</th>\n",
       "      <td>Honda</td>\n",
       "      <td>22000</td>\n",
       "    </tr>\n",
       "    <tr>\n",
       "      <th>1</th>\n",
       "      <td>Toyota</td>\n",
       "      <td>25000</td>\n",
       "    </tr>\n",
       "  </tbody>\n",
       "</table>\n",
       "</div>"
      ],
      "text/plain": [
       "    Brand  Price\n",
       "0   Honda  22000\n",
       "1  Toyota  25000"
      ]
     },
     "execution_count": 100,
     "metadata": {},
     "output_type": "execute_result"
    }
   ],
   "source": [
    "df[['Brand', 'Price']].head(2)"
   ]
  },
  {
   "cell_type": "markdown",
   "id": "83fcc5ff-c946-4875-8791-d023d92b1121",
   "metadata": {},
   "source": [
    "### 2.3.1 Basic column operations <a class=\"anchor\" id=\"section_2_3_1\"></a>\n",
    "\n",
    "There are some basic operations we can excecute on columns, such as:\n",
    "\n",
    "- **max()** : Gets the maximum value of a column.\n",
    "- **min()** : Gets the minimum value of a column.\n",
    "- **mean()** : Gets the mean value of a column.\n",
    "- **std()** : Gets the standard deviation of a column.\n",
    "\n",
    "**Note** These statistics can also be summarized using the function *describe()*.\n",
    "\n",
    "In addition, we can use condional operations to filter the result of a column:\n",
    "\n",
    "- $>$ greater then\n",
    "- $<$ smaller then\n",
    "- $==$ equal to\n"
   ]
  },
  {
   "cell_type": "code",
   "execution_count": 19,
   "id": "875d91b7-1404-4003-97fa-8c977490a0ec",
   "metadata": {},
   "outputs": [
    {
     "data": {
      "text/plain": [
       "35000"
      ]
     },
     "execution_count": 101,
     "metadata": {},
     "output_type": "execute_result"
    }
   ],
   "source": [
    "df['Price'].max()"
   ]
  },
  {
   "cell_type": "code",
   "execution_count": 20,
   "id": "1152ef7a-7eeb-4da6-95c4-aa2b677f3c16",
   "metadata": {},
   "outputs": [
    {
     "data": {
      "text/plain": [
       "22000"
      ]
     },
     "execution_count": 102,
     "metadata": {},
     "output_type": "execute_result"
    }
   ],
   "source": [
    "df['Price'].min()"
   ]
  },
  {
   "cell_type": "code",
   "execution_count": 21,
   "id": "4f6a3eda-a714-4ee7-9596-eb7e814c4ae0",
   "metadata": {},
   "outputs": [
    {
     "data": {
      "text/plain": [
       "27250.0"
      ]
     },
     "execution_count": 103,
     "metadata": {},
     "output_type": "execute_result"
    }
   ],
   "source": [
    "df['Price'].mean()"
   ]
  },
  {
   "cell_type": "code",
   "execution_count": 22,
   "id": "5722d4a6-f434-4a00-84c3-177cd3fae166",
   "metadata": {},
   "outputs": [
    {
     "data": {
      "text/plain": [
       "5560.275772537426"
      ]
     },
     "execution_count": 104,
     "metadata": {},
     "output_type": "execute_result"
    }
   ],
   "source": [
    "df['Price'].std()"
   ]
  },
  {
   "cell_type": "markdown",
   "id": "93579fd3-f664-4285-99f4-dae087e6351c",
   "metadata": {},
   "source": [
    "We can get a summary of a columns statistic using the decribe() function."
   ]
  },
  {
   "cell_type": "code",
   "execution_count": 23,
   "id": "beaef17f-9a46-4167-bd14-c5681719ecc7",
   "metadata": {},
   "outputs": [
    {
     "data": {
      "text/plain": [
       "count        4.000000\n",
       "mean     27250.000000\n",
       "std       5560.275773\n",
       "min      22000.000000\n",
       "25%      24250.000000\n",
       "50%      26000.000000\n",
       "75%      29000.000000\n",
       "max      35000.000000\n",
       "Name: Price, dtype: float64"
      ]
     },
     "execution_count": 105,
     "metadata": {},
     "output_type": "execute_result"
    }
   ],
   "source": [
    "df['Price'].describe()"
   ]
  },
  {
   "cell_type": "markdown",
   "id": "660a149d-9f80-4f79-8d9d-e656e64c4e6c",
   "metadata": {},
   "source": [
    "Conditional operations can be applied to columns to find all entries that are smaller, larger or equal to a specific value."
   ]
  },
  {
   "cell_type": "code",
   "execution_count": 24,
   "id": "45d2f639-68df-44a0-9311-55bbbb051062",
   "metadata": {},
   "outputs": [
    {
     "data": {
      "text/html": [
       "<div>\n",
       "<style scoped>\n",
       "    .dataframe tbody tr th:only-of-type {\n",
       "        vertical-align: middle;\n",
       "    }\n",
       "\n",
       "    .dataframe tbody tr th {\n",
       "        vertical-align: top;\n",
       "    }\n",
       "\n",
       "    .dataframe thead th {\n",
       "        text-align: right;\n",
       "    }\n",
       "</style>\n",
       "<table border=\"1\" class=\"dataframe\">\n",
       "  <thead>\n",
       "    <tr style=\"text-align: right;\">\n",
       "      <th></th>\n",
       "      <th>Brand</th>\n",
       "      <th>Price</th>\n",
       "      <th>color</th>\n",
       "    </tr>\n",
       "  </thead>\n",
       "  <tbody>\n",
       "    <tr>\n",
       "      <th>3</th>\n",
       "      <td>Audi</td>\n",
       "      <td>35000</td>\n",
       "      <td>silver</td>\n",
       "    </tr>\n",
       "  </tbody>\n",
       "</table>\n",
       "</div>"
      ],
      "text/plain": [
       "  Brand  Price   color\n",
       "3  Audi  35000  silver"
      ]
     },
     "execution_count": 106,
     "metadata": {},
     "output_type": "execute_result"
    }
   ],
   "source": [
    "df[df['Price'] > 30000]"
   ]
  },
  {
   "cell_type": "code",
   "execution_count": 25,
   "id": "2beb5e44-67e5-4a43-80a7-d888da52c4ff",
   "metadata": {},
   "outputs": [
    {
     "data": {
      "text/html": [
       "<div>\n",
       "<style scoped>\n",
       "    .dataframe tbody tr th:only-of-type {\n",
       "        vertical-align: middle;\n",
       "    }\n",
       "\n",
       "    .dataframe tbody tr th {\n",
       "        vertical-align: top;\n",
       "    }\n",
       "\n",
       "    .dataframe thead th {\n",
       "        text-align: right;\n",
       "    }\n",
       "</style>\n",
       "<table border=\"1\" class=\"dataframe\">\n",
       "  <thead>\n",
       "    <tr style=\"text-align: right;\">\n",
       "      <th></th>\n",
       "      <th>Brand</th>\n",
       "      <th>Price</th>\n",
       "      <th>color</th>\n",
       "    </tr>\n",
       "  </thead>\n",
       "  <tbody>\n",
       "    <tr>\n",
       "      <th>0</th>\n",
       "      <td>Honda</td>\n",
       "      <td>22000</td>\n",
       "      <td>black</td>\n",
       "    </tr>\n",
       "    <tr>\n",
       "      <th>1</th>\n",
       "      <td>Toyota</td>\n",
       "      <td>25000</td>\n",
       "      <td>blue</td>\n",
       "    </tr>\n",
       "    <tr>\n",
       "      <th>2</th>\n",
       "      <td>Ford</td>\n",
       "      <td>27000</td>\n",
       "      <td>red</td>\n",
       "    </tr>\n",
       "  </tbody>\n",
       "</table>\n",
       "</div>"
      ],
      "text/plain": [
       "    Brand  Price  color\n",
       "0   Honda  22000  black\n",
       "1  Toyota  25000   blue\n",
       "2    Ford  27000    red"
      ]
     },
     "execution_count": 107,
     "metadata": {},
     "output_type": "execute_result"
    }
   ],
   "source": [
    "df[df['Price'] < 30000]"
   ]
  },
  {
   "cell_type": "code",
   "execution_count": 26,
   "id": "d27d72e7-8603-42c0-856d-1c4143f26118",
   "metadata": {},
   "outputs": [
    {
     "data": {
      "text/html": [
       "<div>\n",
       "<style scoped>\n",
       "    .dataframe tbody tr th:only-of-type {\n",
       "        vertical-align: middle;\n",
       "    }\n",
       "\n",
       "    .dataframe tbody tr th {\n",
       "        vertical-align: top;\n",
       "    }\n",
       "\n",
       "    .dataframe thead th {\n",
       "        text-align: right;\n",
       "    }\n",
       "</style>\n",
       "<table border=\"1\" class=\"dataframe\">\n",
       "  <thead>\n",
       "    <tr style=\"text-align: right;\">\n",
       "      <th></th>\n",
       "      <th>Brand</th>\n",
       "      <th>Price</th>\n",
       "      <th>color</th>\n",
       "    </tr>\n",
       "  </thead>\n",
       "  <tbody>\n",
       "    <tr>\n",
       "      <th>0</th>\n",
       "      <td>Honda</td>\n",
       "      <td>22000</td>\n",
       "      <td>black</td>\n",
       "    </tr>\n",
       "  </tbody>\n",
       "</table>\n",
       "</div>"
      ],
      "text/plain": [
       "   Brand  Price  color\n",
       "0  Honda  22000  black"
      ]
     },
     "execution_count": 108,
     "metadata": {},
     "output_type": "execute_result"
    }
   ],
   "source": [
    "df[df['Price'] == 22000]"
   ]
  },
  {
   "cell_type": "markdown",
   "id": "ec9a1e97-bf6f-4000-9751-75079722e430",
   "metadata": {},
   "source": [
    "## 2.4 Accessing rows with loc and iloc <a class=\"anchor\" id=\"section_2_4\"></a>\n",
    " \n",
    "The loc and iloc functions are two additional ways to access the rows of a DataFrame:\n",
    "\n",
    "- **loc** gets rows with a specific label.\n",
    "- **iloc** gets rows at a given index (location)"
   ]
  },
  {
   "cell_type": "code",
   "execution_count": 27,
   "id": "b3116d86-a293-4163-9c3e-f9d6fc96c7f7",
   "metadata": {},
   "outputs": [
    {
     "data": {
      "text/plain": [
       "Brand    Honda\n",
       "Price    22000\n",
       "color    black\n",
       "Name: 0, dtype: object"
      ]
     },
     "execution_count": 109,
     "metadata": {},
     "output_type": "execute_result"
    }
   ],
   "source": [
    "df.loc[0]"
   ]
  },
  {
   "cell_type": "code",
   "execution_count": 28,
   "id": "618f395e-b0f9-4424-be7d-910f4937e75f",
   "metadata": {},
   "outputs": [
    {
     "data": {
      "text/plain": [
       "Brand    Honda\n",
       "Price    22000\n",
       "color    black\n",
       "Name: 0, dtype: object"
      ]
     },
     "execution_count": 110,
     "metadata": {},
     "output_type": "execute_result"
    }
   ],
   "source": [
    "df.iloc[0]"
   ]
  },
  {
   "cell_type": "markdown",
   "id": "5d197f7c-e5d4-46a8-bad9-60c84405930e",
   "metadata": {},
   "source": [
    "**Note** In this case, loc and iloc return exactly the same entry. Why is that? Our iloc function works as expected, returing the entry at index position 0. But what does loc do? \n",
    "Loc returns the row(s) with a specific label. The rows in our example are auto-indexed, with row *labels* from $0 - n-1$ rows. That menas that our loc function works as well, returning the row with label *0*."
   ]
  },
  {
   "cell_type": "markdown",
   "id": "ef388d34-a339-4bfc-8f4b-37c023f1afb5",
   "metadata": {},
   "source": [
    "Lets take a look at the indexes in our DataFrame:"
   ]
  },
  {
   "cell_type": "code",
   "execution_count": 29,
   "id": "64af74b4-0327-45db-8414-8fa6be05f234",
   "metadata": {},
   "outputs": [
    {
     "data": {
      "text/plain": [
       "RangeIndex(start=0, stop=4, step=1)"
      ]
     },
     "execution_count": 111,
     "metadata": {},
     "output_type": "execute_result"
    }
   ],
   "source": [
    "df.index"
   ]
  },
  {
   "cell_type": "markdown",
   "id": "9b4e1513-7dc8-493e-b709-7a9efbf48e04",
   "metadata": {},
   "source": [
    "Indexes starts at 0, end at 4, and are incremented with a step size of 1.\n",
    "We can set new index names using the *set_index()* function. Lets define new indexes equal to the brand of the cars."
   ]
  },
  {
   "cell_type": "code",
   "execution_count": 30,
   "id": "9bddd4c3-b445-4ce1-8a08-df4a82de74dd",
   "metadata": {},
   "outputs": [
    {
     "data": {
      "text/html": [
       "<div>\n",
       "<style scoped>\n",
       "    .dataframe tbody tr th:only-of-type {\n",
       "        vertical-align: middle;\n",
       "    }\n",
       "\n",
       "    .dataframe tbody tr th {\n",
       "        vertical-align: top;\n",
       "    }\n",
       "\n",
       "    .dataframe thead th {\n",
       "        text-align: right;\n",
       "    }\n",
       "</style>\n",
       "<table border=\"1\" class=\"dataframe\">\n",
       "  <thead>\n",
       "    <tr style=\"text-align: right;\">\n",
       "      <th></th>\n",
       "      <th>Price</th>\n",
       "      <th>color</th>\n",
       "    </tr>\n",
       "    <tr>\n",
       "      <th>Brand</th>\n",
       "      <th></th>\n",
       "      <th></th>\n",
       "    </tr>\n",
       "  </thead>\n",
       "  <tbody>\n",
       "    <tr>\n",
       "      <th>Honda</th>\n",
       "      <td>22000</td>\n",
       "      <td>black</td>\n",
       "    </tr>\n",
       "    <tr>\n",
       "      <th>Toyota</th>\n",
       "      <td>25000</td>\n",
       "      <td>blue</td>\n",
       "    </tr>\n",
       "    <tr>\n",
       "      <th>Ford</th>\n",
       "      <td>27000</td>\n",
       "      <td>red</td>\n",
       "    </tr>\n",
       "    <tr>\n",
       "      <th>Audi</th>\n",
       "      <td>35000</td>\n",
       "      <td>silver</td>\n",
       "    </tr>\n",
       "  </tbody>\n",
       "</table>\n",
       "</div>"
      ],
      "text/plain": [
       "        Price   color\n",
       "Brand                \n",
       "Honda   22000   black\n",
       "Toyota  25000    blue\n",
       "Ford    27000     red\n",
       "Audi    35000  silver"
      ]
     },
     "execution_count": 112,
     "metadata": {},
     "output_type": "execute_result"
    }
   ],
   "source": [
    "df.set_index('Brand')"
   ]
  },
  {
   "cell_type": "code",
   "execution_count": 31,
   "id": "d24c2bfa-a2b2-460e-97b4-5f59556bd388",
   "metadata": {},
   "outputs": [
    {
     "data": {
      "text/html": [
       "<div>\n",
       "<style scoped>\n",
       "    .dataframe tbody tr th:only-of-type {\n",
       "        vertical-align: middle;\n",
       "    }\n",
       "\n",
       "    .dataframe tbody tr th {\n",
       "        vertical-align: top;\n",
       "    }\n",
       "\n",
       "    .dataframe thead th {\n",
       "        text-align: right;\n",
       "    }\n",
       "</style>\n",
       "<table border=\"1\" class=\"dataframe\">\n",
       "  <thead>\n",
       "    <tr style=\"text-align: right;\">\n",
       "      <th></th>\n",
       "      <th>Brand</th>\n",
       "      <th>Price</th>\n",
       "      <th>color</th>\n",
       "    </tr>\n",
       "  </thead>\n",
       "  <tbody>\n",
       "    <tr>\n",
       "      <th>0</th>\n",
       "      <td>Honda</td>\n",
       "      <td>22000</td>\n",
       "      <td>black</td>\n",
       "    </tr>\n",
       "    <tr>\n",
       "      <th>1</th>\n",
       "      <td>Toyota</td>\n",
       "      <td>25000</td>\n",
       "      <td>blue</td>\n",
       "    </tr>\n",
       "  </tbody>\n",
       "</table>\n",
       "</div>"
      ],
      "text/plain": [
       "    Brand  Price  color\n",
       "0   Honda  22000  black\n",
       "1  Toyota  25000   blue"
      ]
     },
     "execution_count": 113,
     "metadata": {},
     "output_type": "execute_result"
    }
   ],
   "source": [
    "df.head(2)"
   ]
  },
  {
   "cell_type": "markdown",
   "id": "f10ec381-b3f4-405f-987e-3991b37ab2a7",
   "metadata": {},
   "source": [
    "**Problem!** Did you observe what just happened? We gave new labels to our indexes. If we print the first two rows of our DataFrame, nothing has changed though. The indexes are still in the range between $0-n-1$. The set_index() function creates a new DataFrame instead of changing the original one. \n",
    "We can solve this problem by setting df.set_index() equal to our original DataFrame."
   ]
  },
  {
   "cell_type": "code",
   "execution_count": 32,
   "id": "6d36a824-7979-4798-900b-117b89a7d2e0",
   "metadata": {},
   "outputs": [
    {
     "data": {
      "text/html": [
       "<div>\n",
       "<style scoped>\n",
       "    .dataframe tbody tr th:only-of-type {\n",
       "        vertical-align: middle;\n",
       "    }\n",
       "\n",
       "    .dataframe tbody tr th {\n",
       "        vertical-align: top;\n",
       "    }\n",
       "\n",
       "    .dataframe thead th {\n",
       "        text-align: right;\n",
       "    }\n",
       "</style>\n",
       "<table border=\"1\" class=\"dataframe\">\n",
       "  <thead>\n",
       "    <tr style=\"text-align: right;\">\n",
       "      <th></th>\n",
       "      <th>Price</th>\n",
       "      <th>color</th>\n",
       "    </tr>\n",
       "    <tr>\n",
       "      <th>Brand</th>\n",
       "      <th></th>\n",
       "      <th></th>\n",
       "    </tr>\n",
       "  </thead>\n",
       "  <tbody>\n",
       "    <tr>\n",
       "      <th>Honda</th>\n",
       "      <td>22000</td>\n",
       "      <td>black</td>\n",
       "    </tr>\n",
       "    <tr>\n",
       "      <th>Toyota</th>\n",
       "      <td>25000</td>\n",
       "      <td>blue</td>\n",
       "    </tr>\n",
       "    <tr>\n",
       "      <th>Ford</th>\n",
       "      <td>27000</td>\n",
       "      <td>red</td>\n",
       "    </tr>\n",
       "    <tr>\n",
       "      <th>Audi</th>\n",
       "      <td>35000</td>\n",
       "      <td>silver</td>\n",
       "    </tr>\n",
       "  </tbody>\n",
       "</table>\n",
       "</div>"
      ],
      "text/plain": [
       "        Price   color\n",
       "Brand                \n",
       "Honda   22000   black\n",
       "Toyota  25000    blue\n",
       "Ford    27000     red\n",
       "Audi    35000  silver"
      ]
     },
     "execution_count": 114,
     "metadata": {},
     "output_type": "execute_result"
    }
   ],
   "source": [
    "df = df.set_index('Brand')\n",
    "df"
   ]
  },
  {
   "cell_type": "markdown",
   "id": "39ab953c-1ded-4580-9207-91b1330b9330",
   "metadata": {},
   "source": [
    "An alternative way is to use set the **inplace** attribute of the set_index() function equal to True."
   ]
  },
  {
   "cell_type": "code",
   "execution_count": 33,
   "id": "ce3d9d10-c48e-443a-8c6a-f4c1ddf994da",
   "metadata": {},
   "outputs": [
    {
     "data": {
      "text/html": [
       "<div>\n",
       "<style scoped>\n",
       "    .dataframe tbody tr th:only-of-type {\n",
       "        vertical-align: middle;\n",
       "    }\n",
       "\n",
       "    .dataframe tbody tr th {\n",
       "        vertical-align: top;\n",
       "    }\n",
       "\n",
       "    .dataframe thead th {\n",
       "        text-align: right;\n",
       "    }\n",
       "</style>\n",
       "<table border=\"1\" class=\"dataframe\">\n",
       "  <thead>\n",
       "    <tr style=\"text-align: right;\">\n",
       "      <th></th>\n",
       "      <th>Price</th>\n",
       "      <th>color</th>\n",
       "    </tr>\n",
       "    <tr>\n",
       "      <th>Brand</th>\n",
       "      <th></th>\n",
       "      <th></th>\n",
       "    </tr>\n",
       "  </thead>\n",
       "  <tbody>\n",
       "    <tr>\n",
       "      <th>Honda</th>\n",
       "      <td>22000</td>\n",
       "      <td>black</td>\n",
       "    </tr>\n",
       "    <tr>\n",
       "      <th>Toyota</th>\n",
       "      <td>25000</td>\n",
       "      <td>blue</td>\n",
       "    </tr>\n",
       "    <tr>\n",
       "      <th>Ford</th>\n",
       "      <td>27000</td>\n",
       "      <td>red</td>\n",
       "    </tr>\n",
       "    <tr>\n",
       "      <th>Audi</th>\n",
       "      <td>35000</td>\n",
       "      <td>silver</td>\n",
       "    </tr>\n",
       "  </tbody>\n",
       "</table>\n",
       "</div>"
      ],
      "text/plain": [
       "        Price   color\n",
       "Brand                \n",
       "Honda   22000   black\n",
       "Toyota  25000    blue\n",
       "Ford    27000     red\n",
       "Audi    35000  silver"
      ]
     },
     "execution_count": 115,
     "metadata": {},
     "output_type": "execute_result"
    }
   ],
   "source": [
    "df = pd.read_csv('cars.txt')\n",
    "# Use inplace=True to change the original DataFrame\n",
    "df.set_index('Brand', inplace = True)\n",
    "df"
   ]
  },
  {
   "cell_type": "markdown",
   "id": "588331e8-229d-4f35-b865-15054b74bfd5",
   "metadata": {},
   "source": [
    "Now lets test the iloc and loc function one more time. We use iloc in excatly the same way as before, by proving an integer index to the function. The loc function will be used in a slightly different way. Instead of providing an integer, we will now provide a string variable to the function. "
   ]
  },
  {
   "cell_type": "code",
   "execution_count": 34,
   "id": "7d17b643-9705-4a19-819f-dacfcdedc54a",
   "metadata": {},
   "outputs": [
    {
     "data": {
      "text/plain": [
       "Price    22000\n",
       "color    black\n",
       "Name: Honda, dtype: object"
      ]
     },
     "execution_count": 116,
     "metadata": {},
     "output_type": "execute_result"
    }
   ],
   "source": [
    "df.loc['Honda']"
   ]
  },
  {
   "cell_type": "code",
   "execution_count": 35,
   "id": "58552e3e-8df2-4320-815a-849c2923f1a9",
   "metadata": {},
   "outputs": [
    {
     "data": {
      "text/plain": [
       "Price    22000\n",
       "color    black\n",
       "Name: Honda, dtype: object"
      ]
     },
     "execution_count": 117,
     "metadata": {},
     "output_type": "execute_result"
    }
   ],
   "source": [
    "df.iloc[0]"
   ]
  },
  {
   "cell_type": "markdown",
   "id": "0794727c-496d-44c4-97c5-223cec50ca54",
   "metadata": {},
   "source": [
    "# 3. Group data using GroupBy <a class=\"anchor\" id=\"chapter3\"></a>\n",
    "\n",
    "Sometimes our data contains repeated values which are connected to varying ones. Consider having a dataset of students containing the grades for two semester of differents subjects."
   ]
  },
  {
   "cell_type": "code",
   "execution_count": 36,
   "id": "3d2f3e84-b6a1-4108-a854-ac7b49d7c94b",
   "metadata": {},
   "outputs": [
    {
     "data": {
      "text/html": [
       "<div>\n",
       "<style scoped>\n",
       "    .dataframe tbody tr th:only-of-type {\n",
       "        vertical-align: middle;\n",
       "    }\n",
       "\n",
       "    .dataframe tbody tr th {\n",
       "        vertical-align: top;\n",
       "    }\n",
       "\n",
       "    .dataframe thead th {\n",
       "        text-align: right;\n",
       "    }\n",
       "</style>\n",
       "<table border=\"1\" class=\"dataframe\">\n",
       "  <thead>\n",
       "    <tr style=\"text-align: right;\">\n",
       "      <th></th>\n",
       "      <th>name</th>\n",
       "      <th>subject</th>\n",
       "      <th>sem1</th>\n",
       "      <th>sem2</th>\n",
       "    </tr>\n",
       "  </thead>\n",
       "  <tbody>\n",
       "    <tr>\n",
       "      <th>0</th>\n",
       "      <td>Nisha</td>\n",
       "      <td>Physics</td>\n",
       "      <td>88</td>\n",
       "      <td>91</td>\n",
       "    </tr>\n",
       "    <tr>\n",
       "      <th>1</th>\n",
       "      <td>Arun</td>\n",
       "      <td>Physics</td>\n",
       "      <td>92</td>\n",
       "      <td>95</td>\n",
       "    </tr>\n",
       "    <tr>\n",
       "      <th>2</th>\n",
       "      <td>Neha</td>\n",
       "      <td>Physics</td>\n",
       "      <td>78</td>\n",
       "      <td>81</td>\n",
       "    </tr>\n",
       "    <tr>\n",
       "      <th>3</th>\n",
       "      <td>Varun</td>\n",
       "      <td>Physics</td>\n",
       "      <td>60</td>\n",
       "      <td>63</td>\n",
       "    </tr>\n",
       "    <tr>\n",
       "      <th>4</th>\n",
       "      <td>Nisha</td>\n",
       "      <td>Chemistry</td>\n",
       "      <td>61</td>\n",
       "      <td>64</td>\n",
       "    </tr>\n",
       "    <tr>\n",
       "      <th>5</th>\n",
       "      <td>Arun</td>\n",
       "      <td>Chemistry</td>\n",
       "      <td>72</td>\n",
       "      <td>75</td>\n",
       "    </tr>\n",
       "    <tr>\n",
       "      <th>6</th>\n",
       "      <td>Neha</td>\n",
       "      <td>Chemistry</td>\n",
       "      <td>82</td>\n",
       "      <td>85</td>\n",
       "    </tr>\n",
       "    <tr>\n",
       "      <th>7</th>\n",
       "      <td>Varun</td>\n",
       "      <td>Chemistry</td>\n",
       "      <td>59</td>\n",
       "      <td>62</td>\n",
       "    </tr>\n",
       "    <tr>\n",
       "      <th>8</th>\n",
       "      <td>Nisha</td>\n",
       "      <td>Math</td>\n",
       "      <td>70</td>\n",
       "      <td>73</td>\n",
       "    </tr>\n",
       "    <tr>\n",
       "      <th>9</th>\n",
       "      <td>Arun</td>\n",
       "      <td>Math</td>\n",
       "      <td>48</td>\n",
       "      <td>51</td>\n",
       "    </tr>\n",
       "    <tr>\n",
       "      <th>10</th>\n",
       "      <td>Neha</td>\n",
       "      <td>Math</td>\n",
       "      <td>83</td>\n",
       "      <td>86</td>\n",
       "    </tr>\n",
       "    <tr>\n",
       "      <th>11</th>\n",
       "      <td>Varun</td>\n",
       "      <td>Math</td>\n",
       "      <td>63</td>\n",
       "      <td>66</td>\n",
       "    </tr>\n",
       "    <tr>\n",
       "      <th>12</th>\n",
       "      <td>Nisha</td>\n",
       "      <td>Biology</td>\n",
       "      <td>71</td>\n",
       "      <td>74</td>\n",
       "    </tr>\n",
       "    <tr>\n",
       "      <th>13</th>\n",
       "      <td>Arun</td>\n",
       "      <td>Biology</td>\n",
       "      <td>84</td>\n",
       "      <td>87</td>\n",
       "    </tr>\n",
       "    <tr>\n",
       "      <th>14</th>\n",
       "      <td>Neha</td>\n",
       "      <td>Biology</td>\n",
       "      <td>57</td>\n",
       "      <td>60</td>\n",
       "    </tr>\n",
       "    <tr>\n",
       "      <th>15</th>\n",
       "      <td>Varun</td>\n",
       "      <td>Biology</td>\n",
       "      <td>71</td>\n",
       "      <td>74</td>\n",
       "    </tr>\n",
       "  </tbody>\n",
       "</table>\n",
       "</div>"
      ],
      "text/plain": [
       "     name    subject  sem1  sem2\n",
       "0   Nisha    Physics    88    91\n",
       "1    Arun    Physics    92    95\n",
       "2    Neha    Physics    78    81\n",
       "3   Varun    Physics    60    63\n",
       "4   Nisha  Chemistry    61    64\n",
       "5    Arun  Chemistry    72    75\n",
       "6    Neha  Chemistry    82    85\n",
       "7   Varun  Chemistry    59    62\n",
       "8   Nisha       Math    70    73\n",
       "9    Arun       Math    48    51\n",
       "10   Neha       Math    83    86\n",
       "11  Varun       Math    63    66\n",
       "12  Nisha    Biology    71    74\n",
       "13   Arun    Biology    84    87\n",
       "14   Neha    Biology    57    60\n",
       "15  Varun    Biology    71    74"
      ]
     },
     "execution_count": 118,
     "metadata": {},
     "output_type": "execute_result"
    }
   ],
   "source": [
    "student_df = pd.read_csv('students.csv')\n",
    "student_df"
   ]
  },
  {
   "cell_type": "markdown",
   "id": "7acf2045-d3d4-4a73-9e6f-6703acd1699c",
   "metadata": {},
   "source": [
    "We can see that we have a total of four students, whos name is used several times to describe different subjects and the students marks during the first and second semester."
   ]
  },
  {
   "cell_type": "markdown",
   "id": "8f6072c4-ee9f-4c48-a854-658a4a346ec4",
   "metadata": {},
   "source": [
    "## 3.1 Creating a group object <a class=\"anchor\" id=\"section_3_1\"></a>\n",
    "\n",
    "Using the *groupby()* function, we can generate a group the students names. We also store tthe group into a new variable students."
   ]
  },
  {
   "cell_type": "code",
   "execution_count": 37,
   "id": "ae35e832-2fa6-46c4-8088-3777067e1bde",
   "metadata": {},
   "outputs": [
    {
     "data": {
      "text/plain": [
       "<pandas.core.groupby.generic.DataFrameGroupBy object at 0x000001F0BDE29660>"
      ]
     },
     "execution_count": 119,
     "metadata": {},
     "output_type": "execute_result"
    }
   ],
   "source": [
    "students = student_df.groupby(['name'])\n",
    "students"
   ]
  },
  {
   "cell_type": "markdown",
   "id": "81d187fa-9cd3-42ef-bdf9-0459de74463a",
   "metadata": {},
   "source": [
    "You can see that the students variable is a DataFramGroupBy object. Using the group, we can perform different operations on it."
   ]
  },
  {
   "cell_type": "code",
   "execution_count": 38,
   "id": "e7c9e5de-e54c-44f6-8ab2-803cd0c9d2cb",
   "metadata": {},
   "outputs": [
    {
     "data": {
      "text/html": [
       "<div>\n",
       "<style scoped>\n",
       "    .dataframe tbody tr th:only-of-type {\n",
       "        vertical-align: middle;\n",
       "    }\n",
       "\n",
       "    .dataframe tbody tr th {\n",
       "        vertical-align: top;\n",
       "    }\n",
       "\n",
       "    .dataframe thead th {\n",
       "        text-align: right;\n",
       "    }\n",
       "</style>\n",
       "<table border=\"1\" class=\"dataframe\">\n",
       "  <thead>\n",
       "    <tr style=\"text-align: right;\">\n",
       "      <th></th>\n",
       "      <th>subject</th>\n",
       "      <th>sem1</th>\n",
       "      <th>sem2</th>\n",
       "    </tr>\n",
       "    <tr>\n",
       "      <th>name</th>\n",
       "      <th></th>\n",
       "      <th></th>\n",
       "      <th></th>\n",
       "    </tr>\n",
       "  </thead>\n",
       "  <tbody>\n",
       "    <tr>\n",
       "      <th>Arun</th>\n",
       "      <td>Physics</td>\n",
       "      <td>92</td>\n",
       "      <td>95</td>\n",
       "    </tr>\n",
       "    <tr>\n",
       "      <th>Neha</th>\n",
       "      <td>Physics</td>\n",
       "      <td>78</td>\n",
       "      <td>81</td>\n",
       "    </tr>\n",
       "    <tr>\n",
       "      <th>Nisha</th>\n",
       "      <td>Physics</td>\n",
       "      <td>88</td>\n",
       "      <td>91</td>\n",
       "    </tr>\n",
       "    <tr>\n",
       "      <th>Varun</th>\n",
       "      <td>Physics</td>\n",
       "      <td>60</td>\n",
       "      <td>63</td>\n",
       "    </tr>\n",
       "  </tbody>\n",
       "</table>\n",
       "</div>"
      ],
      "text/plain": [
       "       subject  sem1  sem2\n",
       "name                      \n",
       "Arun   Physics    92    95\n",
       "Neha   Physics    78    81\n",
       "Nisha  Physics    88    91\n",
       "Varun  Physics    60    63"
      ]
     },
     "execution_count": 120,
     "metadata": {},
     "output_type": "execute_result"
    }
   ],
   "source": [
    "# show the first group\n",
    "students.first()"
   ]
  },
  {
   "cell_type": "code",
   "execution_count": 39,
   "id": "d9c72a62-7514-4d86-860b-df56b113f3ac",
   "metadata": {},
   "outputs": [
    {
     "data": {
      "text/html": [
       "<div>\n",
       "<style scoped>\n",
       "    .dataframe tbody tr th:only-of-type {\n",
       "        vertical-align: middle;\n",
       "    }\n",
       "\n",
       "    .dataframe tbody tr th {\n",
       "        vertical-align: top;\n",
       "    }\n",
       "\n",
       "    .dataframe thead th {\n",
       "        text-align: right;\n",
       "    }\n",
       "</style>\n",
       "<table border=\"1\" class=\"dataframe\">\n",
       "  <thead>\n",
       "    <tr style=\"text-align: right;\">\n",
       "      <th></th>\n",
       "      <th>subject</th>\n",
       "      <th>sem1</th>\n",
       "      <th>sem2</th>\n",
       "    </tr>\n",
       "    <tr>\n",
       "      <th>name</th>\n",
       "      <th></th>\n",
       "      <th></th>\n",
       "      <th></th>\n",
       "    </tr>\n",
       "  </thead>\n",
       "  <tbody>\n",
       "    <tr>\n",
       "      <th>Arun</th>\n",
       "      <td>Biology</td>\n",
       "      <td>84</td>\n",
       "      <td>87</td>\n",
       "    </tr>\n",
       "    <tr>\n",
       "      <th>Neha</th>\n",
       "      <td>Biology</td>\n",
       "      <td>57</td>\n",
       "      <td>60</td>\n",
       "    </tr>\n",
       "    <tr>\n",
       "      <th>Nisha</th>\n",
       "      <td>Biology</td>\n",
       "      <td>71</td>\n",
       "      <td>74</td>\n",
       "    </tr>\n",
       "    <tr>\n",
       "      <th>Varun</th>\n",
       "      <td>Biology</td>\n",
       "      <td>71</td>\n",
       "      <td>74</td>\n",
       "    </tr>\n",
       "  </tbody>\n",
       "</table>\n",
       "</div>"
      ],
      "text/plain": [
       "       subject  sem1  sem2\n",
       "name                      \n",
       "Arun   Biology    84    87\n",
       "Neha   Biology    57    60\n",
       "Nisha  Biology    71    74\n",
       "Varun  Biology    71    74"
      ]
     },
     "execution_count": 121,
     "metadata": {},
     "output_type": "execute_result"
    }
   ],
   "source": [
    "# show the last group\n",
    "students.last()"
   ]
  },
  {
   "cell_type": "code",
   "execution_count": 40,
   "id": "721ad762-2ab8-4185-bec9-20c08e085141",
   "metadata": {},
   "outputs": [
    {
     "data": {
      "text/plain": [
       "(name\n",
       " Arun     92\n",
       " Neha     83\n",
       " Nisha    88\n",
       " Varun    71\n",
       " Name: sem1, dtype: int64,\n",
       " name\n",
       " Arun     48\n",
       " Neha     57\n",
       " Nisha    61\n",
       " Varun    59\n",
       " Name: sem1, dtype: int64,\n",
       " name\n",
       " Arun     74.00\n",
       " Neha     75.00\n",
       " Nisha    72.50\n",
       " Varun    63.25\n",
       " Name: sem1, dtype: float64)"
      ]
     },
     "execution_count": 122,
     "metadata": {},
     "output_type": "execute_result"
    }
   ],
   "source": [
    "# Compute maximum, minimum and average values of the first semesters marks\n",
    "students['sem1'].max(), students['sem1'].min(), students['sem1'].mean()"
   ]
  },
  {
   "cell_type": "markdown",
   "id": "f843d15e-92df-41f7-b86f-c046ae9dca7b",
   "metadata": {},
   "source": [
    "We are also able to iterate through the different groups in the students variable."
   ]
  },
  {
   "cell_type": "code",
   "execution_count": 41,
   "id": "128bd2da-0ea9-41bc-91ea-a29844eff322",
   "metadata": {},
   "outputs": [
    {
     "data": {
      "text/plain": [
       "{'Arun': [1, 5, 9, 13], 'Neha': [2, 6, 10, 14], 'Nisha': [0, 4, 8, 12], 'Varun': [3, 7, 11, 15]}"
      ]
     },
     "execution_count": 123,
     "metadata": {},
     "output_type": "execute_result"
    }
   ],
   "source": [
    "students.groups"
   ]
  },
  {
   "cell_type": "code",
   "execution_count": 42,
   "id": "da2d1651-ac2e-40e1-9af5-5429aecee0ff",
   "metadata": {},
   "outputs": [
    {
     "name": "stdout",
     "output_type": "stream",
     "text": [
      "Arun\n",
      "    name    subject  sem1  sem2\n",
      "1   Arun    Physics    92    95\n",
      "5   Arun  Chemistry    72    75\n",
      "9   Arun       Math    48    51\n",
      "13  Arun    Biology    84    87\n",
      "Neha\n",
      "    name    subject  sem1  sem2\n",
      "2   Neha    Physics    78    81\n",
      "6   Neha  Chemistry    82    85\n",
      "10  Neha       Math    83    86\n",
      "14  Neha    Biology    57    60\n",
      "Nisha\n",
      "     name    subject  sem1  sem2\n",
      "0   Nisha    Physics    88    91\n",
      "4   Nisha  Chemistry    61    64\n",
      "8   Nisha       Math    70    73\n",
      "12  Nisha    Biology    71    74\n",
      "Varun\n",
      "     name    subject  sem1  sem2\n",
      "3   Varun    Physics    60    63\n",
      "7   Varun  Chemistry    59    62\n",
      "11  Varun       Math    63    66\n",
      "15  Varun    Biology    71    74\n"
     ]
    }
   ],
   "source": [
    "for student, df in students:\n",
    "    print(student)\n",
    "    print(df)"
   ]
  },
  {
   "cell_type": "markdown",
   "id": "e6875d77-39a5-458f-8b9d-bd10521ecd2b",
   "metadata": {},
   "source": [
    "To access a specific group, we can use the *get_group* function."
   ]
  },
  {
   "cell_type": "code",
   "execution_count": 43,
   "id": "d0b553ad-223e-487b-8df4-3d4837e04ef2",
   "metadata": {},
   "outputs": [
    {
     "data": {
      "text/html": [
       "<div>\n",
       "<style scoped>\n",
       "    .dataframe tbody tr th:only-of-type {\n",
       "        vertical-align: middle;\n",
       "    }\n",
       "\n",
       "    .dataframe tbody tr th {\n",
       "        vertical-align: top;\n",
       "    }\n",
       "\n",
       "    .dataframe thead th {\n",
       "        text-align: right;\n",
       "    }\n",
       "</style>\n",
       "<table border=\"1\" class=\"dataframe\">\n",
       "  <thead>\n",
       "    <tr style=\"text-align: right;\">\n",
       "      <th></th>\n",
       "      <th>name</th>\n",
       "      <th>subject</th>\n",
       "      <th>sem1</th>\n",
       "      <th>sem2</th>\n",
       "    </tr>\n",
       "  </thead>\n",
       "  <tbody>\n",
       "    <tr>\n",
       "      <th>2</th>\n",
       "      <td>Neha</td>\n",
       "      <td>Physics</td>\n",
       "      <td>78</td>\n",
       "      <td>81</td>\n",
       "    </tr>\n",
       "    <tr>\n",
       "      <th>6</th>\n",
       "      <td>Neha</td>\n",
       "      <td>Chemistry</td>\n",
       "      <td>82</td>\n",
       "      <td>85</td>\n",
       "    </tr>\n",
       "    <tr>\n",
       "      <th>10</th>\n",
       "      <td>Neha</td>\n",
       "      <td>Math</td>\n",
       "      <td>83</td>\n",
       "      <td>86</td>\n",
       "    </tr>\n",
       "    <tr>\n",
       "      <th>14</th>\n",
       "      <td>Neha</td>\n",
       "      <td>Biology</td>\n",
       "      <td>57</td>\n",
       "      <td>60</td>\n",
       "    </tr>\n",
       "  </tbody>\n",
       "</table>\n",
       "</div>"
      ],
      "text/plain": [
       "    name    subject  sem1  sem2\n",
       "2   Neha    Physics    78    81\n",
       "6   Neha  Chemistry    82    85\n",
       "10  Neha       Math    83    86\n",
       "14  Neha    Biology    57    60"
      ]
     },
     "execution_count": 125,
     "metadata": {},
     "output_type": "execute_result"
    }
   ],
   "source": [
    "student_df.groupby(['name']).get_group('Neha')"
   ]
  },
  {
   "cell_type": "markdown",
   "id": "f4a6bd99-b71c-40de-82f8-4725ad515dcf",
   "metadata": {},
   "source": [
    "To get a statistical summary of the different groups, we can use the describe() function that we have seen in the beginning og this tutorial."
   ]
  },
  {
   "cell_type": "code",
   "execution_count": 44,
   "id": "8739d41b-f0ee-4077-83e5-95450e8d8ef6",
   "metadata": {},
   "outputs": [
    {
     "data": {
      "text/html": [
       "<div>\n",
       "<style scoped>\n",
       "    .dataframe tbody tr th:only-of-type {\n",
       "        vertical-align: middle;\n",
       "    }\n",
       "\n",
       "    .dataframe tbody tr th {\n",
       "        vertical-align: top;\n",
       "    }\n",
       "\n",
       "    .dataframe thead tr th {\n",
       "        text-align: left;\n",
       "    }\n",
       "\n",
       "    .dataframe thead tr:last-of-type th {\n",
       "        text-align: right;\n",
       "    }\n",
       "</style>\n",
       "<table border=\"1\" class=\"dataframe\">\n",
       "  <thead>\n",
       "    <tr>\n",
       "      <th></th>\n",
       "      <th colspan=\"8\" halign=\"left\">sem1</th>\n",
       "      <th colspan=\"8\" halign=\"left\">sem2</th>\n",
       "    </tr>\n",
       "    <tr>\n",
       "      <th></th>\n",
       "      <th>count</th>\n",
       "      <th>mean</th>\n",
       "      <th>std</th>\n",
       "      <th>min</th>\n",
       "      <th>25%</th>\n",
       "      <th>50%</th>\n",
       "      <th>75%</th>\n",
       "      <th>max</th>\n",
       "      <th>count</th>\n",
       "      <th>mean</th>\n",
       "      <th>std</th>\n",
       "      <th>min</th>\n",
       "      <th>25%</th>\n",
       "      <th>50%</th>\n",
       "      <th>75%</th>\n",
       "      <th>max</th>\n",
       "    </tr>\n",
       "    <tr>\n",
       "      <th>name</th>\n",
       "      <th></th>\n",
       "      <th></th>\n",
       "      <th></th>\n",
       "      <th></th>\n",
       "      <th></th>\n",
       "      <th></th>\n",
       "      <th></th>\n",
       "      <th></th>\n",
       "      <th></th>\n",
       "      <th></th>\n",
       "      <th></th>\n",
       "      <th></th>\n",
       "      <th></th>\n",
       "      <th></th>\n",
       "      <th></th>\n",
       "      <th></th>\n",
       "    </tr>\n",
       "  </thead>\n",
       "  <tbody>\n",
       "    <tr>\n",
       "      <th>Arun</th>\n",
       "      <td>4.0</td>\n",
       "      <td>74.00</td>\n",
       "      <td>19.183326</td>\n",
       "      <td>48.0</td>\n",
       "      <td>66.00</td>\n",
       "      <td>78.0</td>\n",
       "      <td>86.00</td>\n",
       "      <td>92.0</td>\n",
       "      <td>4.0</td>\n",
       "      <td>77.00</td>\n",
       "      <td>19.183326</td>\n",
       "      <td>51.0</td>\n",
       "      <td>69.00</td>\n",
       "      <td>81.0</td>\n",
       "      <td>89.00</td>\n",
       "      <td>95.0</td>\n",
       "    </tr>\n",
       "    <tr>\n",
       "      <th>Neha</th>\n",
       "      <td>4.0</td>\n",
       "      <td>75.00</td>\n",
       "      <td>12.192894</td>\n",
       "      <td>57.0</td>\n",
       "      <td>72.75</td>\n",
       "      <td>80.0</td>\n",
       "      <td>82.25</td>\n",
       "      <td>83.0</td>\n",
       "      <td>4.0</td>\n",
       "      <td>78.00</td>\n",
       "      <td>12.192894</td>\n",
       "      <td>60.0</td>\n",
       "      <td>75.75</td>\n",
       "      <td>83.0</td>\n",
       "      <td>85.25</td>\n",
       "      <td>86.0</td>\n",
       "    </tr>\n",
       "    <tr>\n",
       "      <th>Nisha</th>\n",
       "      <td>4.0</td>\n",
       "      <td>72.50</td>\n",
       "      <td>11.269428</td>\n",
       "      <td>61.0</td>\n",
       "      <td>67.75</td>\n",
       "      <td>70.5</td>\n",
       "      <td>75.25</td>\n",
       "      <td>88.0</td>\n",
       "      <td>4.0</td>\n",
       "      <td>75.50</td>\n",
       "      <td>11.269428</td>\n",
       "      <td>64.0</td>\n",
       "      <td>70.75</td>\n",
       "      <td>73.5</td>\n",
       "      <td>78.25</td>\n",
       "      <td>91.0</td>\n",
       "    </tr>\n",
       "    <tr>\n",
       "      <th>Varun</th>\n",
       "      <td>4.0</td>\n",
       "      <td>63.25</td>\n",
       "      <td>5.439056</td>\n",
       "      <td>59.0</td>\n",
       "      <td>59.75</td>\n",
       "      <td>61.5</td>\n",
       "      <td>65.00</td>\n",
       "      <td>71.0</td>\n",
       "      <td>4.0</td>\n",
       "      <td>66.25</td>\n",
       "      <td>5.439056</td>\n",
       "      <td>62.0</td>\n",
       "      <td>62.75</td>\n",
       "      <td>64.5</td>\n",
       "      <td>68.00</td>\n",
       "      <td>74.0</td>\n",
       "    </tr>\n",
       "  </tbody>\n",
       "</table>\n",
       "</div>"
      ],
      "text/plain": [
       "       sem1                                                    sem2         \\\n",
       "      count   mean        std   min    25%   50%    75%   max count   mean   \n",
       "name                                                                         \n",
       "Arun    4.0  74.00  19.183326  48.0  66.00  78.0  86.00  92.0   4.0  77.00   \n",
       "Neha    4.0  75.00  12.192894  57.0  72.75  80.0  82.25  83.0   4.0  78.00   \n",
       "Nisha   4.0  72.50  11.269428  61.0  67.75  70.5  75.25  88.0   4.0  75.50   \n",
       "Varun   4.0  63.25   5.439056  59.0  59.75  61.5  65.00  71.0   4.0  66.25   \n",
       "\n",
       "                                                  \n",
       "             std   min    25%   50%    75%   max  \n",
       "name                                              \n",
       "Arun   19.183326  51.0  69.00  81.0  89.00  95.0  \n",
       "Neha   12.192894  60.0  75.75  83.0  85.25  86.0  \n",
       "Nisha  11.269428  64.0  70.75  73.5  78.25  91.0  \n",
       "Varun   5.439056  62.0  62.75  64.5  68.00  74.0  "
      ]
     },
     "execution_count": 126,
     "metadata": {},
     "output_type": "execute_result"
    }
   ],
   "source": [
    "students.describe()"
   ]
  },
  {
   "cell_type": "markdown",
   "id": "38d89608-c104-4167-9181-57e9f63f97d8",
   "metadata": {},
   "source": [
    "## 3.2 Grouping with multiple indexes <a class=\"anchor\" id=\"section_3_2\"></a>\n",
    "\n",
    "We have seen that we can sort data by a specific column using the groupby function. Another way to group data is by using multiple indexes."
   ]
  },
  {
   "cell_type": "code",
   "execution_count": 45,
   "id": "4774c702-238c-4b3b-afef-55bbd79ceec8",
   "metadata": {},
   "outputs": [
    {
     "data": {
      "text/html": [
       "<div>\n",
       "<style scoped>\n",
       "    .dataframe tbody tr th:only-of-type {\n",
       "        vertical-align: middle;\n",
       "    }\n",
       "\n",
       "    .dataframe tbody tr th {\n",
       "        vertical-align: top;\n",
       "    }\n",
       "\n",
       "    .dataframe thead th {\n",
       "        text-align: right;\n",
       "    }\n",
       "</style>\n",
       "<table border=\"1\" class=\"dataframe\">\n",
       "  <thead>\n",
       "    <tr style=\"text-align: right;\">\n",
       "      <th></th>\n",
       "      <th>name</th>\n",
       "      <th>subject</th>\n",
       "      <th>sem1</th>\n",
       "      <th>sem2</th>\n",
       "    </tr>\n",
       "  </thead>\n",
       "  <tbody>\n",
       "    <tr>\n",
       "      <th>1</th>\n",
       "      <td>Arun</td>\n",
       "      <td>Physics</td>\n",
       "      <td>92</td>\n",
       "      <td>95</td>\n",
       "    </tr>\n",
       "    <tr>\n",
       "      <th>5</th>\n",
       "      <td>Arun</td>\n",
       "      <td>Chemistry</td>\n",
       "      <td>72</td>\n",
       "      <td>75</td>\n",
       "    </tr>\n",
       "    <tr>\n",
       "      <th>9</th>\n",
       "      <td>Arun</td>\n",
       "      <td>Math</td>\n",
       "      <td>48</td>\n",
       "      <td>51</td>\n",
       "    </tr>\n",
       "    <tr>\n",
       "      <th>13</th>\n",
       "      <td>Arun</td>\n",
       "      <td>Biology</td>\n",
       "      <td>84</td>\n",
       "      <td>87</td>\n",
       "    </tr>\n",
       "    <tr>\n",
       "      <th>2</th>\n",
       "      <td>Neha</td>\n",
       "      <td>Physics</td>\n",
       "      <td>78</td>\n",
       "      <td>81</td>\n",
       "    </tr>\n",
       "    <tr>\n",
       "      <th>6</th>\n",
       "      <td>Neha</td>\n",
       "      <td>Chemistry</td>\n",
       "      <td>82</td>\n",
       "      <td>85</td>\n",
       "    </tr>\n",
       "    <tr>\n",
       "      <th>10</th>\n",
       "      <td>Neha</td>\n",
       "      <td>Math</td>\n",
       "      <td>83</td>\n",
       "      <td>86</td>\n",
       "    </tr>\n",
       "    <tr>\n",
       "      <th>14</th>\n",
       "      <td>Neha</td>\n",
       "      <td>Biology</td>\n",
       "      <td>57</td>\n",
       "      <td>60</td>\n",
       "    </tr>\n",
       "    <tr>\n",
       "      <th>0</th>\n",
       "      <td>Nisha</td>\n",
       "      <td>Physics</td>\n",
       "      <td>88</td>\n",
       "      <td>91</td>\n",
       "    </tr>\n",
       "    <tr>\n",
       "      <th>4</th>\n",
       "      <td>Nisha</td>\n",
       "      <td>Chemistry</td>\n",
       "      <td>61</td>\n",
       "      <td>64</td>\n",
       "    </tr>\n",
       "    <tr>\n",
       "      <th>8</th>\n",
       "      <td>Nisha</td>\n",
       "      <td>Math</td>\n",
       "      <td>70</td>\n",
       "      <td>73</td>\n",
       "    </tr>\n",
       "    <tr>\n",
       "      <th>12</th>\n",
       "      <td>Nisha</td>\n",
       "      <td>Biology</td>\n",
       "      <td>71</td>\n",
       "      <td>74</td>\n",
       "    </tr>\n",
       "    <tr>\n",
       "      <th>3</th>\n",
       "      <td>Varun</td>\n",
       "      <td>Physics</td>\n",
       "      <td>60</td>\n",
       "      <td>63</td>\n",
       "    </tr>\n",
       "    <tr>\n",
       "      <th>7</th>\n",
       "      <td>Varun</td>\n",
       "      <td>Chemistry</td>\n",
       "      <td>59</td>\n",
       "      <td>62</td>\n",
       "    </tr>\n",
       "    <tr>\n",
       "      <th>11</th>\n",
       "      <td>Varun</td>\n",
       "      <td>Math</td>\n",
       "      <td>63</td>\n",
       "      <td>66</td>\n",
       "    </tr>\n",
       "    <tr>\n",
       "      <th>15</th>\n",
       "      <td>Varun</td>\n",
       "      <td>Biology</td>\n",
       "      <td>71</td>\n",
       "      <td>74</td>\n",
       "    </tr>\n",
       "  </tbody>\n",
       "</table>\n",
       "</div>"
      ],
      "text/plain": [
       "     name    subject  sem1  sem2\n",
       "1    Arun    Physics    92    95\n",
       "5    Arun  Chemistry    72    75\n",
       "9    Arun       Math    48    51\n",
       "13   Arun    Biology    84    87\n",
       "2    Neha    Physics    78    81\n",
       "6    Neha  Chemistry    82    85\n",
       "10   Neha       Math    83    86\n",
       "14   Neha    Biology    57    60\n",
       "0   Nisha    Physics    88    91\n",
       "4   Nisha  Chemistry    61    64\n",
       "8   Nisha       Math    70    73\n",
       "12  Nisha    Biology    71    74\n",
       "3   Varun    Physics    60    63\n",
       "7   Varun  Chemistry    59    62\n",
       "11  Varun       Math    63    66\n",
       "15  Varun    Biology    71    74"
      ]
     },
     "execution_count": 127,
     "metadata": {},
     "output_type": "execute_result"
    }
   ],
   "source": [
    "student_df.sort_values(by = ['name'], inplace = True)\n",
    "student_df"
   ]
  },
  {
   "cell_type": "code",
   "execution_count": 46,
   "id": "ed3ee2b2-3e28-43db-80f1-2f68bfad2462",
   "metadata": {},
   "outputs": [
    {
     "data": {
      "text/html": [
       "<div>\n",
       "<style scoped>\n",
       "    .dataframe tbody tr th:only-of-type {\n",
       "        vertical-align: middle;\n",
       "    }\n",
       "\n",
       "    .dataframe tbody tr th {\n",
       "        vertical-align: top;\n",
       "    }\n",
       "\n",
       "    .dataframe thead th {\n",
       "        text-align: right;\n",
       "    }\n",
       "</style>\n",
       "<table border=\"1\" class=\"dataframe\">\n",
       "  <thead>\n",
       "    <tr style=\"text-align: right;\">\n",
       "      <th></th>\n",
       "      <th></th>\n",
       "      <th>sem1</th>\n",
       "      <th>sem2</th>\n",
       "    </tr>\n",
       "    <tr>\n",
       "      <th>name</th>\n",
       "      <th>subject</th>\n",
       "      <th></th>\n",
       "      <th></th>\n",
       "    </tr>\n",
       "  </thead>\n",
       "  <tbody>\n",
       "    <tr>\n",
       "      <th rowspan=\"4\" valign=\"top\">Arun</th>\n",
       "      <th>Physics</th>\n",
       "      <td>92</td>\n",
       "      <td>95</td>\n",
       "    </tr>\n",
       "    <tr>\n",
       "      <th>Chemistry</th>\n",
       "      <td>72</td>\n",
       "      <td>75</td>\n",
       "    </tr>\n",
       "    <tr>\n",
       "      <th>Math</th>\n",
       "      <td>48</td>\n",
       "      <td>51</td>\n",
       "    </tr>\n",
       "    <tr>\n",
       "      <th>Biology</th>\n",
       "      <td>84</td>\n",
       "      <td>87</td>\n",
       "    </tr>\n",
       "    <tr>\n",
       "      <th rowspan=\"4\" valign=\"top\">Neha</th>\n",
       "      <th>Physics</th>\n",
       "      <td>78</td>\n",
       "      <td>81</td>\n",
       "    </tr>\n",
       "    <tr>\n",
       "      <th>Chemistry</th>\n",
       "      <td>82</td>\n",
       "      <td>85</td>\n",
       "    </tr>\n",
       "    <tr>\n",
       "      <th>Math</th>\n",
       "      <td>83</td>\n",
       "      <td>86</td>\n",
       "    </tr>\n",
       "    <tr>\n",
       "      <th>Biology</th>\n",
       "      <td>57</td>\n",
       "      <td>60</td>\n",
       "    </tr>\n",
       "    <tr>\n",
       "      <th rowspan=\"4\" valign=\"top\">Nisha</th>\n",
       "      <th>Physics</th>\n",
       "      <td>88</td>\n",
       "      <td>91</td>\n",
       "    </tr>\n",
       "    <tr>\n",
       "      <th>Chemistry</th>\n",
       "      <td>61</td>\n",
       "      <td>64</td>\n",
       "    </tr>\n",
       "    <tr>\n",
       "      <th>Math</th>\n",
       "      <td>70</td>\n",
       "      <td>73</td>\n",
       "    </tr>\n",
       "    <tr>\n",
       "      <th>Biology</th>\n",
       "      <td>71</td>\n",
       "      <td>74</td>\n",
       "    </tr>\n",
       "    <tr>\n",
       "      <th rowspan=\"4\" valign=\"top\">Varun</th>\n",
       "      <th>Physics</th>\n",
       "      <td>60</td>\n",
       "      <td>63</td>\n",
       "    </tr>\n",
       "    <tr>\n",
       "      <th>Chemistry</th>\n",
       "      <td>59</td>\n",
       "      <td>62</td>\n",
       "    </tr>\n",
       "    <tr>\n",
       "      <th>Math</th>\n",
       "      <td>63</td>\n",
       "      <td>66</td>\n",
       "    </tr>\n",
       "    <tr>\n",
       "      <th>Biology</th>\n",
       "      <td>71</td>\n",
       "      <td>74</td>\n",
       "    </tr>\n",
       "  </tbody>\n",
       "</table>\n",
       "</div>"
      ],
      "text/plain": [
       "                 sem1  sem2\n",
       "name  subject              \n",
       "Arun  Physics      92    95\n",
       "      Chemistry    72    75\n",
       "      Math         48    51\n",
       "      Biology      84    87\n",
       "Neha  Physics      78    81\n",
       "      Chemistry    82    85\n",
       "      Math         83    86\n",
       "      Biology      57    60\n",
       "Nisha Physics      88    91\n",
       "      Chemistry    61    64\n",
       "      Math         70    73\n",
       "      Biology      71    74\n",
       "Varun Physics      60    63\n",
       "      Chemistry    59    62\n",
       "      Math         63    66\n",
       "      Biology      71    74"
      ]
     },
     "execution_count": 128,
     "metadata": {},
     "output_type": "execute_result"
    }
   ],
   "source": [
    "student_df.set_index(['name', 'subject'], inplace = True)\n",
    "student_df"
   ]
  },
  {
   "cell_type": "markdown",
   "id": "828580b3-5130-44cc-bda6-75d4901c394f",
   "metadata": {},
   "source": [
    "We have now created a DataFrame with multiple indexes. If we want to group this data we can use **level numbers**. In our case, level 0 = name and level 1 = subject."
   ]
  },
  {
   "cell_type": "code",
   "execution_count": 47,
   "id": "52fe4dde-037b-458e-9a72-cabbc95cd166",
   "metadata": {},
   "outputs": [
    {
     "data": {
      "text/html": [
       "<div>\n",
       "<style scoped>\n",
       "    .dataframe tbody tr th:only-of-type {\n",
       "        vertical-align: middle;\n",
       "    }\n",
       "\n",
       "    .dataframe tbody tr th {\n",
       "        vertical-align: top;\n",
       "    }\n",
       "\n",
       "    .dataframe thead th {\n",
       "        text-align: right;\n",
       "    }\n",
       "</style>\n",
       "<table border=\"1\" class=\"dataframe\">\n",
       "  <thead>\n",
       "    <tr style=\"text-align: right;\">\n",
       "      <th></th>\n",
       "      <th>sem1</th>\n",
       "      <th>sem2</th>\n",
       "    </tr>\n",
       "    <tr>\n",
       "      <th>name</th>\n",
       "      <th></th>\n",
       "      <th></th>\n",
       "    </tr>\n",
       "  </thead>\n",
       "  <tbody>\n",
       "    <tr>\n",
       "      <th>Arun</th>\n",
       "      <td>296</td>\n",
       "      <td>308</td>\n",
       "    </tr>\n",
       "    <tr>\n",
       "      <th>Neha</th>\n",
       "      <td>300</td>\n",
       "      <td>312</td>\n",
       "    </tr>\n",
       "    <tr>\n",
       "      <th>Nisha</th>\n",
       "      <td>290</td>\n",
       "      <td>302</td>\n",
       "    </tr>\n",
       "    <tr>\n",
       "      <th>Varun</th>\n",
       "      <td>253</td>\n",
       "      <td>265</td>\n",
       "    </tr>\n",
       "  </tbody>\n",
       "</table>\n",
       "</div>"
      ],
      "text/plain": [
       "       sem1  sem2\n",
       "name             \n",
       "Arun    296   308\n",
       "Neha    300   312\n",
       "Nisha   290   302\n",
       "Varun   253   265"
      ]
     },
     "execution_count": 129,
     "metadata": {},
     "output_type": "execute_result"
    }
   ],
   "source": [
    "grouped = student_df.groupby(level = 0)\n",
    "grouped.sum()"
   ]
  },
  {
   "cell_type": "markdown",
   "id": "f53dd364-a23b-4a6d-9011-3e3c054906d2",
   "metadata": {},
   "source": [
    "The above operation groups the data by the names and sums up all grades from semester 1 and semester 2."
   ]
  },
  {
   "cell_type": "code",
   "execution_count": 48,
   "id": "b1345baf-ac14-49f8-940f-089893b426f8",
   "metadata": {},
   "outputs": [
    {
     "data": {
      "text/html": [
       "<div>\n",
       "<style scoped>\n",
       "    .dataframe tbody tr th:only-of-type {\n",
       "        vertical-align: middle;\n",
       "    }\n",
       "\n",
       "    .dataframe tbody tr th {\n",
       "        vertical-align: top;\n",
       "    }\n",
       "\n",
       "    .dataframe thead th {\n",
       "        text-align: right;\n",
       "    }\n",
       "</style>\n",
       "<table border=\"1\" class=\"dataframe\">\n",
       "  <thead>\n",
       "    <tr style=\"text-align: right;\">\n",
       "      <th></th>\n",
       "      <th>sem1</th>\n",
       "      <th>sem2</th>\n",
       "    </tr>\n",
       "    <tr>\n",
       "      <th>subject</th>\n",
       "      <th></th>\n",
       "      <th></th>\n",
       "    </tr>\n",
       "  </thead>\n",
       "  <tbody>\n",
       "    <tr>\n",
       "      <th>Biology</th>\n",
       "      <td>283</td>\n",
       "      <td>295</td>\n",
       "    </tr>\n",
       "    <tr>\n",
       "      <th>Chemistry</th>\n",
       "      <td>274</td>\n",
       "      <td>286</td>\n",
       "    </tr>\n",
       "    <tr>\n",
       "      <th>Math</th>\n",
       "      <td>264</td>\n",
       "      <td>276</td>\n",
       "    </tr>\n",
       "    <tr>\n",
       "      <th>Physics</th>\n",
       "      <td>318</td>\n",
       "      <td>330</td>\n",
       "    </tr>\n",
       "  </tbody>\n",
       "</table>\n",
       "</div>"
      ],
      "text/plain": [
       "           sem1  sem2\n",
       "subject              \n",
       "Biology     283   295\n",
       "Chemistry   274   286\n",
       "Math        264   276\n",
       "Physics     318   330"
      ]
     },
     "execution_count": 130,
     "metadata": {},
     "output_type": "execute_result"
    }
   ],
   "source": [
    "grouped = student_df.groupby(level = 1)\n",
    "grouped.sum()"
   ]
  },
  {
   "cell_type": "markdown",
   "id": "a6d5b16a-7bef-4f2c-91f5-5393b637b4c3",
   "metadata": {},
   "source": [
    "This function groups the DataFrame by the subject and computes the sum of all marks for each subject for semester 1 and semester 2."
   ]
  },
  {
   "cell_type": "markdown",
   "id": "d7c46d88-83b6-4ac6-a8b7-c7e9f41ec063",
   "metadata": {},
   "source": [
    "# 4. Concatenation <a class=\"anchor\" id=\"chapter4\"></a>\n",
    "\n",
    "Most of the times we want to collect data from several sources like .txt, .csv or excel files, sql databases or from other sources. These data can be read into different DataFrames or Series, which we want to combined to a single, large Series/DataFrame. This can be achieved by **concatenation**.\n"
   ]
  },
  {
   "cell_type": "markdown",
   "id": "25dac3ee-ecfa-4be5-8bc1-ed6bd60e9bf6",
   "metadata": {},
   "source": [
    "## 4.1 Concatenate Series <a class=\"anchor\" id=\"section_4_1\"></a>"
   ]
  },
  {
   "cell_type": "code",
   "execution_count": 49,
   "id": "fa31c93e-5686-40e6-b9bd-d6f055dbad2c",
   "metadata": {},
   "outputs": [
    {
     "data": {
      "text/plain": [
       "0    d\n",
       "1    a\n",
       "2    v\n",
       "3    i\n",
       "4    d\n",
       "0    m\n",
       "1    i\n",
       "2    k\n",
       "3    e\n",
       "dtype: object"
      ]
     },
     "execution_count": 131,
     "metadata": {},
     "output_type": "execute_result"
    }
   ],
   "source": [
    "# Create two different Series\n",
    "david = pd.Series(['d','a','v','i','d'])\n",
    "mike = pd.Series(['m','i','k','e'])\n",
    "\n",
    "#use the concant function to combine the two Series\n",
    "pd.concat([david, mike])                 "
   ]
  },
  {
   "cell_type": "markdown",
   "id": "b46dd171-181c-43df-b5ed-1246b8d3a448",
   "metadata": {},
   "source": [
    "## 4.2 Concatenate DataFrames <a class=\"anchor\" id=\"section_4_1\"></a>"
   ]
  },
  {
   "cell_type": "markdown",
   "id": "e2fcd4ba-6ada-45a4-b098-03195a91e192",
   "metadata": {},
   "source": [
    "### 4.2.1 Concatenate DataFrames by rows <a class=\"anchor\" id=\"section_4_2_1\"></a>"
   ]
  },
  {
   "cell_type": "markdown",
   "id": "e3474695-d92a-4bd8-aac5-a809cc2cef8e",
   "metadata": {},
   "source": [
    "Now lets try the same thing for DataFrames. We eill create two DataFrames and concatenate them to a single one."
   ]
  },
  {
   "cell_type": "code",
   "execution_count": 50,
   "id": "db374159-77ad-4b0b-87ab-178c09e8bd37",
   "metadata": {},
   "outputs": [
    {
     "data": {
      "text/html": [
       "<div>\n",
       "<style scoped>\n",
       "    .dataframe tbody tr th:only-of-type {\n",
       "        vertical-align: middle;\n",
       "    }\n",
       "\n",
       "    .dataframe tbody tr th {\n",
       "        vertical-align: top;\n",
       "    }\n",
       "\n",
       "    .dataframe thead th {\n",
       "        text-align: right;\n",
       "    }\n",
       "</style>\n",
       "<table border=\"1\" class=\"dataframe\">\n",
       "  <thead>\n",
       "    <tr style=\"text-align: right;\">\n",
       "      <th></th>\n",
       "      <th>subjects</th>\n",
       "      <th>sem1</th>\n",
       "      <th>sem2</th>\n",
       "    </tr>\n",
       "  </thead>\n",
       "  <tbody>\n",
       "    <tr>\n",
       "      <th>0</th>\n",
       "      <td>math</td>\n",
       "      <td>60</td>\n",
       "      <td>63</td>\n",
       "    </tr>\n",
       "    <tr>\n",
       "      <th>1</th>\n",
       "      <td>physics</td>\n",
       "      <td>70</td>\n",
       "      <td>71</td>\n",
       "    </tr>\n",
       "    <tr>\n",
       "      <th>2</th>\n",
       "      <td>chemistry</td>\n",
       "      <td>80</td>\n",
       "      <td>85</td>\n",
       "    </tr>\n",
       "    <tr>\n",
       "      <th>3</th>\n",
       "      <td>biology</td>\n",
       "      <td>90</td>\n",
       "      <td>89</td>\n",
       "    </tr>\n",
       "  </tbody>\n",
       "</table>\n",
       "</div>"
      ],
      "text/plain": [
       "    subjects  sem1  sem2\n",
       "0       math    60    63\n",
       "1    physics    70    71\n",
       "2  chemistry    80    85\n",
       "3    biology    90    89"
      ]
     },
     "metadata": {},
     "output_type": "display_data"
    },
    {
     "data": {
      "text/html": [
       "<div>\n",
       "<style scoped>\n",
       "    .dataframe tbody tr th:only-of-type {\n",
       "        vertical-align: middle;\n",
       "    }\n",
       "\n",
       "    .dataframe tbody tr th {\n",
       "        vertical-align: top;\n",
       "    }\n",
       "\n",
       "    .dataframe thead th {\n",
       "        text-align: right;\n",
       "    }\n",
       "</style>\n",
       "<table border=\"1\" class=\"dataframe\">\n",
       "  <thead>\n",
       "    <tr style=\"text-align: right;\">\n",
       "      <th></th>\n",
       "      <th>subjects</th>\n",
       "      <th>sem1</th>\n",
       "      <th>sem2</th>\n",
       "    </tr>\n",
       "  </thead>\n",
       "  <tbody>\n",
       "    <tr>\n",
       "      <th>0</th>\n",
       "      <td>math</td>\n",
       "      <td>63</td>\n",
       "      <td>73</td>\n",
       "    </tr>\n",
       "    <tr>\n",
       "      <th>1</th>\n",
       "      <td>physics</td>\n",
       "      <td>77</td>\n",
       "      <td>81</td>\n",
       "    </tr>\n",
       "    <tr>\n",
       "      <th>2</th>\n",
       "      <td>chemistry</td>\n",
       "      <td>89</td>\n",
       "      <td>88</td>\n",
       "    </tr>\n",
       "    <tr>\n",
       "      <th>3</th>\n",
       "      <td>biology</td>\n",
       "      <td>92</td>\n",
       "      <td>83</td>\n",
       "    </tr>\n",
       "  </tbody>\n",
       "</table>\n",
       "</div>"
      ],
      "text/plain": [
       "    subjects  sem1  sem2\n",
       "0       math    63    73\n",
       "1    physics    77    81\n",
       "2  chemistry    89    88\n",
       "3    biology    92    83"
      ]
     },
     "metadata": {},
     "output_type": "display_data"
    }
   ],
   "source": [
    "# create first DataFrame\n",
    "david_scores = {\n",
    "                'subjects': ['math', 'physics', 'chemistry', 'biology'], \n",
    "                'sem1': [60, 70, 80, 90],\n",
    "                'sem2': [63, 71, 85, 89],\n",
    "                }\n",
    "david_df = pd.DataFrame(david_scores)\n",
    "\n",
    "# create second DataFrame\n",
    "mike_scores = {\n",
    "                'subjects': ['math', 'physics', 'chemistry', 'biology'], \n",
    "                'sem1': [63, 77, 89, 92],\n",
    "                'sem2': [73, 81, 88, 83],\n",
    "                }\n",
    "\n",
    "mike_df = pd.DataFrame(mike_scores)\n",
    "\n",
    "display(david_df)\n",
    "display(mike_df)"
   ]
  },
  {
   "cell_type": "markdown",
   "id": "787401b0-fc6d-48a8-8264-b5f6bd953008",
   "metadata": {},
   "source": [
    "Now that we have the two DataFrames, lets concatenate them using the *concat()* function."
   ]
  },
  {
   "cell_type": "code",
   "execution_count": 51,
   "id": "c8ba1418-80b6-4a59-a756-62bfb87af0cf",
   "metadata": {},
   "outputs": [
    {
     "data": {
      "text/html": [
       "<div>\n",
       "<style scoped>\n",
       "    .dataframe tbody tr th:only-of-type {\n",
       "        vertical-align: middle;\n",
       "    }\n",
       "\n",
       "    .dataframe tbody tr th {\n",
       "        vertical-align: top;\n",
       "    }\n",
       "\n",
       "    .dataframe thead th {\n",
       "        text-align: right;\n",
       "    }\n",
       "</style>\n",
       "<table border=\"1\" class=\"dataframe\">\n",
       "  <thead>\n",
       "    <tr style=\"text-align: right;\">\n",
       "      <th></th>\n",
       "      <th>subjects</th>\n",
       "      <th>sem1</th>\n",
       "      <th>sem2</th>\n",
       "    </tr>\n",
       "  </thead>\n",
       "  <tbody>\n",
       "    <tr>\n",
       "      <th>0</th>\n",
       "      <td>math</td>\n",
       "      <td>60</td>\n",
       "      <td>63</td>\n",
       "    </tr>\n",
       "    <tr>\n",
       "      <th>1</th>\n",
       "      <td>physics</td>\n",
       "      <td>70</td>\n",
       "      <td>71</td>\n",
       "    </tr>\n",
       "    <tr>\n",
       "      <th>2</th>\n",
       "      <td>chemistry</td>\n",
       "      <td>80</td>\n",
       "      <td>85</td>\n",
       "    </tr>\n",
       "    <tr>\n",
       "      <th>3</th>\n",
       "      <td>biology</td>\n",
       "      <td>90</td>\n",
       "      <td>89</td>\n",
       "    </tr>\n",
       "    <tr>\n",
       "      <th>0</th>\n",
       "      <td>math</td>\n",
       "      <td>63</td>\n",
       "      <td>73</td>\n",
       "    </tr>\n",
       "    <tr>\n",
       "      <th>1</th>\n",
       "      <td>physics</td>\n",
       "      <td>77</td>\n",
       "      <td>81</td>\n",
       "    </tr>\n",
       "    <tr>\n",
       "      <th>2</th>\n",
       "      <td>chemistry</td>\n",
       "      <td>89</td>\n",
       "      <td>88</td>\n",
       "    </tr>\n",
       "    <tr>\n",
       "      <th>3</th>\n",
       "      <td>biology</td>\n",
       "      <td>92</td>\n",
       "      <td>83</td>\n",
       "    </tr>\n",
       "  </tbody>\n",
       "</table>\n",
       "</div>"
      ],
      "text/plain": [
       "    subjects  sem1  sem2\n",
       "0       math    60    63\n",
       "1    physics    70    71\n",
       "2  chemistry    80    85\n",
       "3    biology    90    89\n",
       "0       math    63    73\n",
       "1    physics    77    81\n",
       "2  chemistry    89    88\n",
       "3    biology    92    83"
      ]
     },
     "execution_count": 133,
     "metadata": {},
     "output_type": "execute_result"
    }
   ],
   "source": [
    "df = pd.concat([david_df, mike_df])\n",
    "df"
   ]
  },
  {
   "cell_type": "markdown",
   "id": "a208e73e-b937-49dc-b0fb-f6a2f19d6b16",
   "metadata": {},
   "source": [
    "From the above result we can see that both DataFrames have now been combined to a single one. Nevertheless, the indexes start from 0 up to 3 and are repeated (starting at 0 again) after that.\n",
    "As you can see, it is really difficult to distinguish between the two DataFrames."
   ]
  },
  {
   "cell_type": "markdown",
   "id": "3c012043-7bb1-4998-ab31-d8350cfce9a3",
   "metadata": {},
   "source": [
    "One way to solve this is by adding a key to each DataFrame during concatenation."
   ]
  },
  {
   "cell_type": "code",
   "execution_count": 52,
   "id": "8569ea97-b845-45d4-84ba-3229b366fe3b",
   "metadata": {},
   "outputs": [
    {
     "data": {
      "text/html": [
       "<div>\n",
       "<style scoped>\n",
       "    .dataframe tbody tr th:only-of-type {\n",
       "        vertical-align: middle;\n",
       "    }\n",
       "\n",
       "    .dataframe tbody tr th {\n",
       "        vertical-align: top;\n",
       "    }\n",
       "\n",
       "    .dataframe thead th {\n",
       "        text-align: right;\n",
       "    }\n",
       "</style>\n",
       "<table border=\"1\" class=\"dataframe\">\n",
       "  <thead>\n",
       "    <tr style=\"text-align: right;\">\n",
       "      <th></th>\n",
       "      <th></th>\n",
       "      <th>subjects</th>\n",
       "      <th>sem1</th>\n",
       "      <th>sem2</th>\n",
       "    </tr>\n",
       "  </thead>\n",
       "  <tbody>\n",
       "    <tr>\n",
       "      <th rowspan=\"4\" valign=\"top\">david</th>\n",
       "      <th>0</th>\n",
       "      <td>math</td>\n",
       "      <td>60</td>\n",
       "      <td>63</td>\n",
       "    </tr>\n",
       "    <tr>\n",
       "      <th>1</th>\n",
       "      <td>physics</td>\n",
       "      <td>70</td>\n",
       "      <td>71</td>\n",
       "    </tr>\n",
       "    <tr>\n",
       "      <th>2</th>\n",
       "      <td>chemistry</td>\n",
       "      <td>80</td>\n",
       "      <td>85</td>\n",
       "    </tr>\n",
       "    <tr>\n",
       "      <th>3</th>\n",
       "      <td>biology</td>\n",
       "      <td>90</td>\n",
       "      <td>89</td>\n",
       "    </tr>\n",
       "    <tr>\n",
       "      <th rowspan=\"4\" valign=\"top\">mike</th>\n",
       "      <th>0</th>\n",
       "      <td>math</td>\n",
       "      <td>63</td>\n",
       "      <td>73</td>\n",
       "    </tr>\n",
       "    <tr>\n",
       "      <th>1</th>\n",
       "      <td>physics</td>\n",
       "      <td>77</td>\n",
       "      <td>81</td>\n",
       "    </tr>\n",
       "    <tr>\n",
       "      <th>2</th>\n",
       "      <td>chemistry</td>\n",
       "      <td>89</td>\n",
       "      <td>88</td>\n",
       "    </tr>\n",
       "    <tr>\n",
       "      <th>3</th>\n",
       "      <td>biology</td>\n",
       "      <td>92</td>\n",
       "      <td>83</td>\n",
       "    </tr>\n",
       "  </tbody>\n",
       "</table>\n",
       "</div>"
      ],
      "text/plain": [
       "          subjects  sem1  sem2\n",
       "david 0       math    60    63\n",
       "      1    physics    70    71\n",
       "      2  chemistry    80    85\n",
       "      3    biology    90    89\n",
       "mike  0       math    63    73\n",
       "      1    physics    77    81\n",
       "      2  chemistry    89    88\n",
       "      3    biology    92    83"
      ]
     },
     "execution_count": 134,
     "metadata": {},
     "output_type": "execute_result"
    }
   ],
   "source": [
    "df = pd.concat([david_df, mike_df], keys = ['david', 'mike'])\n",
    "df"
   ]
  },
  {
   "cell_type": "markdown",
   "id": "3412daf9-f4a9-404e-b11f-9fff04267aba",
   "metadata": {},
   "source": [
    "Even though we have combined the data into a single DataFrame, it is still easy to distinguish between the two. The key provides us with an additional index that we can use to index the DataFrame itself."
   ]
  },
  {
   "cell_type": "code",
   "execution_count": 53,
   "id": "b57e2b8e-7af4-4760-ab96-1cf8a098b3c8",
   "metadata": {},
   "outputs": [
    {
     "data": {
      "text/html": [
       "<div>\n",
       "<style scoped>\n",
       "    .dataframe tbody tr th:only-of-type {\n",
       "        vertical-align: middle;\n",
       "    }\n",
       "\n",
       "    .dataframe tbody tr th {\n",
       "        vertical-align: top;\n",
       "    }\n",
       "\n",
       "    .dataframe thead th {\n",
       "        text-align: right;\n",
       "    }\n",
       "</style>\n",
       "<table border=\"1\" class=\"dataframe\">\n",
       "  <thead>\n",
       "    <tr style=\"text-align: right;\">\n",
       "      <th></th>\n",
       "      <th>subjects</th>\n",
       "      <th>sem1</th>\n",
       "      <th>sem2</th>\n",
       "    </tr>\n",
       "  </thead>\n",
       "  <tbody>\n",
       "    <tr>\n",
       "      <th>0</th>\n",
       "      <td>math</td>\n",
       "      <td>60</td>\n",
       "      <td>63</td>\n",
       "    </tr>\n",
       "    <tr>\n",
       "      <th>1</th>\n",
       "      <td>physics</td>\n",
       "      <td>70</td>\n",
       "      <td>71</td>\n",
       "    </tr>\n",
       "    <tr>\n",
       "      <th>2</th>\n",
       "      <td>chemistry</td>\n",
       "      <td>80</td>\n",
       "      <td>85</td>\n",
       "    </tr>\n",
       "    <tr>\n",
       "      <th>3</th>\n",
       "      <td>biology</td>\n",
       "      <td>90</td>\n",
       "      <td>89</td>\n",
       "    </tr>\n",
       "  </tbody>\n",
       "</table>\n",
       "</div>"
      ],
      "text/plain": [
       "    subjects  sem1  sem2\n",
       "0       math    60    63\n",
       "1    physics    70    71\n",
       "2  chemistry    80    85\n",
       "3    biology    90    89"
      ]
     },
     "execution_count": 135,
     "metadata": {},
     "output_type": "execute_result"
    }
   ],
   "source": [
    "df.loc['david']"
   ]
  },
  {
   "cell_type": "markdown",
   "id": "8008b853-b976-4de5-af20-8ccd6c13c772",
   "metadata": {},
   "source": [
    "From the above result we can see that both DataFrames have now been combined to a single one. Nevertheless, the indexes start from 0 up to 3 and are repeated (starting at 0 again) after that. That might be ok, depending on the project you are working on, but lets fix this anyway.\n",
    "\n",
    "To create new indexes for the concenated DataFrame, we can add the argument *ignore_index = True* to the concatenate function. Like the argument name indicates, it ignores the indexes of the single DataFrames and creates new ones for the combined DataFrame."
   ]
  },
  {
   "cell_type": "code",
   "execution_count": 54,
   "id": "c73a75af-0ca3-490a-904d-112407c377e7",
   "metadata": {},
   "outputs": [
    {
     "data": {
      "text/html": [
       "<div>\n",
       "<style scoped>\n",
       "    .dataframe tbody tr th:only-of-type {\n",
       "        vertical-align: middle;\n",
       "    }\n",
       "\n",
       "    .dataframe tbody tr th {\n",
       "        vertical-align: top;\n",
       "    }\n",
       "\n",
       "    .dataframe thead th {\n",
       "        text-align: right;\n",
       "    }\n",
       "</style>\n",
       "<table border=\"1\" class=\"dataframe\">\n",
       "  <thead>\n",
       "    <tr style=\"text-align: right;\">\n",
       "      <th></th>\n",
       "      <th>subjects</th>\n",
       "      <th>sem1</th>\n",
       "      <th>sem2</th>\n",
       "    </tr>\n",
       "  </thead>\n",
       "  <tbody>\n",
       "    <tr>\n",
       "      <th>0</th>\n",
       "      <td>math</td>\n",
       "      <td>60</td>\n",
       "      <td>63</td>\n",
       "    </tr>\n",
       "    <tr>\n",
       "      <th>1</th>\n",
       "      <td>physics</td>\n",
       "      <td>70</td>\n",
       "      <td>71</td>\n",
       "    </tr>\n",
       "    <tr>\n",
       "      <th>2</th>\n",
       "      <td>chemistry</td>\n",
       "      <td>80</td>\n",
       "      <td>85</td>\n",
       "    </tr>\n",
       "    <tr>\n",
       "      <th>3</th>\n",
       "      <td>biology</td>\n",
       "      <td>90</td>\n",
       "      <td>89</td>\n",
       "    </tr>\n",
       "    <tr>\n",
       "      <th>4</th>\n",
       "      <td>math</td>\n",
       "      <td>63</td>\n",
       "      <td>73</td>\n",
       "    </tr>\n",
       "    <tr>\n",
       "      <th>5</th>\n",
       "      <td>physics</td>\n",
       "      <td>77</td>\n",
       "      <td>81</td>\n",
       "    </tr>\n",
       "    <tr>\n",
       "      <th>6</th>\n",
       "      <td>chemistry</td>\n",
       "      <td>89</td>\n",
       "      <td>88</td>\n",
       "    </tr>\n",
       "    <tr>\n",
       "      <th>7</th>\n",
       "      <td>biology</td>\n",
       "      <td>92</td>\n",
       "      <td>83</td>\n",
       "    </tr>\n",
       "  </tbody>\n",
       "</table>\n",
       "</div>"
      ],
      "text/plain": [
       "    subjects  sem1  sem2\n",
       "0       math    60    63\n",
       "1    physics    70    71\n",
       "2  chemistry    80    85\n",
       "3    biology    90    89\n",
       "4       math    63    73\n",
       "5    physics    77    81\n",
       "6  chemistry    89    88\n",
       "7    biology    92    83"
      ]
     },
     "execution_count": 136,
     "metadata": {},
     "output_type": "execute_result"
    }
   ],
   "source": [
    "df = pd.concat([david_df, mike_df], ignore_index = True)\n",
    "df"
   ]
  },
  {
   "cell_type": "markdown",
   "id": "19719be0-46a4-4e3f-a25c-fa4e96042b0b",
   "metadata": {},
   "source": [
    "Now the index starts at 0 and goes all the way up to 7."
   ]
  },
  {
   "cell_type": "markdown",
   "id": "82323420-89d2-4546-8807-e5cfade44751",
   "metadata": {},
   "source": [
    "### 4.2.2 Concatenate DataFrames by columns <a class=\"anchor\" id=\"section_4_2_2\"></a>\n",
    "\n",
    "What we have seen so far is that we can combine multiple Series and DataFrames by concatenation. All combined Series/DataFrames we generated so far have been combined row-wise. As an alternative, we can also concatenate two sources column-wise.\n",
    "\n",
    "Imagine that one of the students just receive the marks for the third semester. Instead of combining the third semester grades row-wise, we need to make a new column *sem3*."
   ]
  },
  {
   "cell_type": "code",
   "execution_count": 57,
   "id": "4be44b09-0984-44e6-afed-7a370153113c",
   "metadata": {},
   "outputs": [
    {
     "data": {
      "text/html": [
       "<div>\n",
       "<style scoped>\n",
       "    .dataframe tbody tr th:only-of-type {\n",
       "        vertical-align: middle;\n",
       "    }\n",
       "\n",
       "    .dataframe tbody tr th {\n",
       "        vertical-align: top;\n",
       "    }\n",
       "\n",
       "    .dataframe thead th {\n",
       "        text-align: right;\n",
       "    }\n",
       "</style>\n",
       "<table border=\"1\" class=\"dataframe\">\n",
       "  <thead>\n",
       "    <tr style=\"text-align: right;\">\n",
       "      <th></th>\n",
       "      <th>subjects</th>\n",
       "      <th>sem1</th>\n",
       "      <th>sem2</th>\n",
       "      <th>sem3</th>\n",
       "    </tr>\n",
       "  </thead>\n",
       "  <tbody>\n",
       "    <tr>\n",
       "      <th>0</th>\n",
       "      <td>math</td>\n",
       "      <td>60.0</td>\n",
       "      <td>63.0</td>\n",
       "      <td>NaN</td>\n",
       "    </tr>\n",
       "    <tr>\n",
       "      <th>1</th>\n",
       "      <td>physics</td>\n",
       "      <td>70.0</td>\n",
       "      <td>71.0</td>\n",
       "      <td>NaN</td>\n",
       "    </tr>\n",
       "    <tr>\n",
       "      <th>2</th>\n",
       "      <td>chemistry</td>\n",
       "      <td>80.0</td>\n",
       "      <td>85.0</td>\n",
       "      <td>NaN</td>\n",
       "    </tr>\n",
       "    <tr>\n",
       "      <th>3</th>\n",
       "      <td>biology</td>\n",
       "      <td>90.0</td>\n",
       "      <td>89.0</td>\n",
       "      <td>NaN</td>\n",
       "    </tr>\n",
       "    <tr>\n",
       "      <th>0</th>\n",
       "      <td>math</td>\n",
       "      <td>NaN</td>\n",
       "      <td>NaN</td>\n",
       "      <td>50.0</td>\n",
       "    </tr>\n",
       "    <tr>\n",
       "      <th>1</th>\n",
       "      <td>physics</td>\n",
       "      <td>NaN</td>\n",
       "      <td>NaN</td>\n",
       "      <td>64.0</td>\n",
       "    </tr>\n",
       "    <tr>\n",
       "      <th>2</th>\n",
       "      <td>chemistry</td>\n",
       "      <td>NaN</td>\n",
       "      <td>NaN</td>\n",
       "      <td>88.0</td>\n",
       "    </tr>\n",
       "    <tr>\n",
       "      <th>3</th>\n",
       "      <td>biology</td>\n",
       "      <td>NaN</td>\n",
       "      <td>NaN</td>\n",
       "      <td>81.0</td>\n",
       "    </tr>\n",
       "  </tbody>\n",
       "</table>\n",
       "</div>"
      ],
      "text/plain": [
       "    subjects  sem1  sem2  sem3\n",
       "0       math  60.0  63.0   NaN\n",
       "1    physics  70.0  71.0   NaN\n",
       "2  chemistry  80.0  85.0   NaN\n",
       "3    biology  90.0  89.0   NaN\n",
       "0       math   NaN   NaN  50.0\n",
       "1    physics   NaN   NaN  64.0\n",
       "2  chemistry   NaN   NaN  88.0\n",
       "3    biology   NaN   NaN  81.0"
      ]
     },
     "execution_count": 137,
     "metadata": {},
     "output_type": "execute_result"
    }
   ],
   "source": [
    "# create additional DataFrame\n",
    "sem3_scores = {\n",
    "                'subjects': ['math', 'physics', 'chemistry', 'biology'], \n",
    "                'sem3': [50, 64, 88, 81]                \n",
    "                }\n",
    "sem3_scores_df = pd.DataFrame(sem3_scores)\n",
    "\n",
    "df = pd.concat([david_df, sem3_scores_df])\n",
    "df"
   ]
  },
  {
   "cell_type": "markdown",
   "id": "eed4c196-b3bd-44ab-922b-f6d2fcd33dfd",
   "metadata": {},
   "source": [
    "Alright, that worked..... well, yes... it worked...but...no, that is not what we wanted.\n",
    "We got a new column *sem3*, which is good. Nevertheless, because we combined the DataFrames row-wise, we got some NaN values for sem1 and sem2, because the subjects are repeated.\n",
    "\n",
    "**Note** In order to combined two DataFrames column-wise, we need to specify the axis argument in the concat function, to specify the axis we want to use for concatenation. In pandas, the default is axis = 0. In our case we should choose axis = 1."
   ]
  },
  {
   "cell_type": "code",
   "execution_count": 58,
   "id": "1dd95491-289d-4beb-ab15-7f1c1860428e",
   "metadata": {},
   "outputs": [
    {
     "data": {
      "text/html": [
       "<div>\n",
       "<style scoped>\n",
       "    .dataframe tbody tr th:only-of-type {\n",
       "        vertical-align: middle;\n",
       "    }\n",
       "\n",
       "    .dataframe tbody tr th {\n",
       "        vertical-align: top;\n",
       "    }\n",
       "\n",
       "    .dataframe thead th {\n",
       "        text-align: right;\n",
       "    }\n",
       "</style>\n",
       "<table border=\"1\" class=\"dataframe\">\n",
       "  <thead>\n",
       "    <tr style=\"text-align: right;\">\n",
       "      <th></th>\n",
       "      <th>subjects</th>\n",
       "      <th>sem1</th>\n",
       "      <th>sem2</th>\n",
       "      <th>subjects</th>\n",
       "      <th>sem3</th>\n",
       "    </tr>\n",
       "  </thead>\n",
       "  <tbody>\n",
       "    <tr>\n",
       "      <th>0</th>\n",
       "      <td>math</td>\n",
       "      <td>60</td>\n",
       "      <td>63</td>\n",
       "      <td>math</td>\n",
       "      <td>50</td>\n",
       "    </tr>\n",
       "    <tr>\n",
       "      <th>1</th>\n",
       "      <td>physics</td>\n",
       "      <td>70</td>\n",
       "      <td>71</td>\n",
       "      <td>physics</td>\n",
       "      <td>64</td>\n",
       "    </tr>\n",
       "    <tr>\n",
       "      <th>2</th>\n",
       "      <td>chemistry</td>\n",
       "      <td>80</td>\n",
       "      <td>85</td>\n",
       "      <td>chemistry</td>\n",
       "      <td>88</td>\n",
       "    </tr>\n",
       "    <tr>\n",
       "      <th>3</th>\n",
       "      <td>biology</td>\n",
       "      <td>90</td>\n",
       "      <td>89</td>\n",
       "      <td>biology</td>\n",
       "      <td>81</td>\n",
       "    </tr>\n",
       "  </tbody>\n",
       "</table>\n",
       "</div>"
      ],
      "text/plain": [
       "    subjects  sem1  sem2   subjects  sem3\n",
       "0       math    60    63       math    50\n",
       "1    physics    70    71    physics    64\n",
       "2  chemistry    80    85  chemistry    88\n",
       "3    biology    90    89    biology    81"
      ]
     },
     "execution_count": 138,
     "metadata": {},
     "output_type": "execute_result"
    }
   ],
   "source": [
    "df = pd.concat([david_df, sem3_scores_df], axis = 1)\n",
    "df"
   ]
  },
  {
   "cell_type": "markdown",
   "id": "0bc2afed-b9e9-4283-ae45-01b7f6a2bcf5",
   "metadata": {},
   "source": [
    "Great, this looks much better! But still, we are not 100% satisfied. Now we got two columns with the name *subject*. As we know that we only want the *sem3* column from the second DataFrame, we can specify this."
   ]
  },
  {
   "cell_type": "code",
   "execution_count": 59,
   "id": "aa3a241a-6684-4eb3-b235-535547da4276",
   "metadata": {},
   "outputs": [
    {
     "data": {
      "text/html": [
       "<div>\n",
       "<style scoped>\n",
       "    .dataframe tbody tr th:only-of-type {\n",
       "        vertical-align: middle;\n",
       "    }\n",
       "\n",
       "    .dataframe tbody tr th {\n",
       "        vertical-align: top;\n",
       "    }\n",
       "\n",
       "    .dataframe thead th {\n",
       "        text-align: right;\n",
       "    }\n",
       "</style>\n",
       "<table border=\"1\" class=\"dataframe\">\n",
       "  <thead>\n",
       "    <tr style=\"text-align: right;\">\n",
       "      <th></th>\n",
       "      <th>subjects</th>\n",
       "      <th>sem1</th>\n",
       "      <th>sem2</th>\n",
       "      <th>sem3</th>\n",
       "    </tr>\n",
       "  </thead>\n",
       "  <tbody>\n",
       "    <tr>\n",
       "      <th>0</th>\n",
       "      <td>math</td>\n",
       "      <td>60</td>\n",
       "      <td>63</td>\n",
       "      <td>50</td>\n",
       "    </tr>\n",
       "    <tr>\n",
       "      <th>1</th>\n",
       "      <td>physics</td>\n",
       "      <td>70</td>\n",
       "      <td>71</td>\n",
       "      <td>64</td>\n",
       "    </tr>\n",
       "    <tr>\n",
       "      <th>2</th>\n",
       "      <td>chemistry</td>\n",
       "      <td>80</td>\n",
       "      <td>85</td>\n",
       "      <td>88</td>\n",
       "    </tr>\n",
       "    <tr>\n",
       "      <th>3</th>\n",
       "      <td>biology</td>\n",
       "      <td>90</td>\n",
       "      <td>89</td>\n",
       "      <td>81</td>\n",
       "    </tr>\n",
       "  </tbody>\n",
       "</table>\n",
       "</div>"
      ],
      "text/plain": [
       "    subjects  sem1  sem2  sem3\n",
       "0       math    60    63    50\n",
       "1    physics    70    71    64\n",
       "2  chemistry    80    85    88\n",
       "3    biology    90    89    81"
      ]
     },
     "execution_count": 139,
     "metadata": {},
     "output_type": "execute_result"
    }
   ],
   "source": [
    "df = pd.concat([david_df, sem3_scores_df['sem3']], axis = 1)\n",
    "df"
   ]
  },
  {
   "cell_type": "markdown",
   "id": "88fdd5a5-ac30-4fd0-81c2-f96ef2228679",
   "metadata": {},
   "source": [
    "Now we only concenated the original DataFrame with the *sem3* column of the new DataFrame. We did this column-wise by specifying the axis of concatenation."
   ]
  },
  {
   "cell_type": "markdown",
   "id": "b4486008-2e14-455b-9121-cddfcf65ad1c",
   "metadata": {},
   "source": [
    "### 4.2.3 Order matters! Rearranging column orders... <a class=\"anchor\" id=\"section_4_2_3\"></a>\n",
    "\n",
    "Sometimes when we want to concatenate two DataFrames, the order of a column is different. This might lead to strange results. Lets look at an example."
   ]
  },
  {
   "cell_type": "code",
   "execution_count": 60,
   "id": "bfac6af2-ee98-48a2-8a85-954f702d751d",
   "metadata": {},
   "outputs": [
    {
     "data": {
      "text/html": [
       "<div>\n",
       "<style scoped>\n",
       "    .dataframe tbody tr th:only-of-type {\n",
       "        vertical-align: middle;\n",
       "    }\n",
       "\n",
       "    .dataframe tbody tr th {\n",
       "        vertical-align: top;\n",
       "    }\n",
       "\n",
       "    .dataframe thead th {\n",
       "        text-align: right;\n",
       "    }\n",
       "</style>\n",
       "<table border=\"1\" class=\"dataframe\">\n",
       "  <thead>\n",
       "    <tr style=\"text-align: right;\">\n",
       "      <th></th>\n",
       "      <th>subjects</th>\n",
       "      <th>sem1</th>\n",
       "      <th>sem2</th>\n",
       "      <th>sem3</th>\n",
       "    </tr>\n",
       "  </thead>\n",
       "  <tbody>\n",
       "    <tr>\n",
       "      <th>0</th>\n",
       "      <td>math</td>\n",
       "      <td>60</td>\n",
       "      <td>63</td>\n",
       "      <td>50</td>\n",
       "    </tr>\n",
       "    <tr>\n",
       "      <th>1</th>\n",
       "      <td>physics</td>\n",
       "      <td>70</td>\n",
       "      <td>71</td>\n",
       "      <td>64</td>\n",
       "    </tr>\n",
       "    <tr>\n",
       "      <th>2</th>\n",
       "      <td>chemistry</td>\n",
       "      <td>80</td>\n",
       "      <td>85</td>\n",
       "      <td>88</td>\n",
       "    </tr>\n",
       "    <tr>\n",
       "      <th>3</th>\n",
       "      <td>biology</td>\n",
       "      <td>90</td>\n",
       "      <td>89</td>\n",
       "      <td>81</td>\n",
       "    </tr>\n",
       "  </tbody>\n",
       "</table>\n",
       "</div>"
      ],
      "text/plain": [
       "    subjects  sem1  sem2  sem3\n",
       "0       math    60    63    50\n",
       "1    physics    70    71    64\n",
       "2  chemistry    80    85    88\n",
       "3    biology    90    89    81"
      ]
     },
     "execution_count": 140,
     "metadata": {},
     "output_type": "execute_result"
    }
   ],
   "source": [
    "# create additional DataFrame\n",
    "sem3_scores = {\n",
    "                'subjects': ['physics', 'chemistry', 'math', 'biology'], \n",
    "                'sem3': [50, 64, 88, 81]                \n",
    "                }\n",
    "sem3_scores_df = pd.DataFrame(sem3_scores)\n",
    "\n",
    "df = pd.concat([david_df, sem3_scores_df['sem3']], axis = 1)\n",
    "df"
   ]
  },
  {
   "cell_type": "markdown",
   "id": "aedc4bd6-2595-4f47-a95a-f9671a950772",
   "metadata": {},
   "source": [
    "From the above result you can see that the marks of semester 3 does not align with the correct subject. In example, david got 88 points in math. According to the concatenated DataFrame he only got 50. \n",
    "You could also choose to concenate the whole second DataFrame with the first one, making it even more obvious."
   ]
  },
  {
   "cell_type": "code",
   "execution_count": 61,
   "id": "b171107f-75ea-4917-ae20-f9bee611ee6c",
   "metadata": {},
   "outputs": [
    {
     "data": {
      "text/html": [
       "<div>\n",
       "<style scoped>\n",
       "    .dataframe tbody tr th:only-of-type {\n",
       "        vertical-align: middle;\n",
       "    }\n",
       "\n",
       "    .dataframe tbody tr th {\n",
       "        vertical-align: top;\n",
       "    }\n",
       "\n",
       "    .dataframe thead th {\n",
       "        text-align: right;\n",
       "    }\n",
       "</style>\n",
       "<table border=\"1\" class=\"dataframe\">\n",
       "  <thead>\n",
       "    <tr style=\"text-align: right;\">\n",
       "      <th></th>\n",
       "      <th>subjects</th>\n",
       "      <th>sem1</th>\n",
       "      <th>sem2</th>\n",
       "      <th>subjects</th>\n",
       "      <th>sem3</th>\n",
       "    </tr>\n",
       "  </thead>\n",
       "  <tbody>\n",
       "    <tr>\n",
       "      <th>0</th>\n",
       "      <td>math</td>\n",
       "      <td>60</td>\n",
       "      <td>63</td>\n",
       "      <td>physics</td>\n",
       "      <td>50</td>\n",
       "    </tr>\n",
       "    <tr>\n",
       "      <th>1</th>\n",
       "      <td>physics</td>\n",
       "      <td>70</td>\n",
       "      <td>71</td>\n",
       "      <td>chemistry</td>\n",
       "      <td>64</td>\n",
       "    </tr>\n",
       "    <tr>\n",
       "      <th>2</th>\n",
       "      <td>chemistry</td>\n",
       "      <td>80</td>\n",
       "      <td>85</td>\n",
       "      <td>math</td>\n",
       "      <td>88</td>\n",
       "    </tr>\n",
       "    <tr>\n",
       "      <th>3</th>\n",
       "      <td>biology</td>\n",
       "      <td>90</td>\n",
       "      <td>89</td>\n",
       "      <td>biology</td>\n",
       "      <td>81</td>\n",
       "    </tr>\n",
       "  </tbody>\n",
       "</table>\n",
       "</div>"
      ],
      "text/plain": [
       "    subjects  sem1  sem2   subjects  sem3\n",
       "0       math    60    63    physics    50\n",
       "1    physics    70    71  chemistry    64\n",
       "2  chemistry    80    85       math    88\n",
       "3    biology    90    89    biology    81"
      ]
     },
     "execution_count": 141,
     "metadata": {},
     "output_type": "execute_result"
    }
   ],
   "source": [
    "# create additional DataFrame\n",
    "sem3_scores = {\n",
    "                'subjects': ['physics', 'chemistry', 'math', 'biology'], \n",
    "                'sem3': [50, 64, 88, 81]                \n",
    "                }\n",
    "\n",
    "df = pd.concat([david_df, sem3_scores_df], axis = 1)\n",
    "df"
   ]
  },
  {
   "cell_type": "markdown",
   "id": "1f4cc746-9897-4d96-82f2-e3878916869d",
   "metadata": {},
   "source": [
    "You can see that the subjects do not align!\n",
    "Luckily, we can use Pandas to rearrange the order of the subjects, by choosing the order of the indexes when creating the DataFrame."
   ]
  },
  {
   "cell_type": "code",
   "execution_count": 62,
   "id": "0ca06873-9e3e-41ea-ac0f-2939bd52d1e4",
   "metadata": {},
   "outputs": [
    {
     "data": {
      "text/html": [
       "<div>\n",
       "<style scoped>\n",
       "    .dataframe tbody tr th:only-of-type {\n",
       "        vertical-align: middle;\n",
       "    }\n",
       "\n",
       "    .dataframe tbody tr th {\n",
       "        vertical-align: top;\n",
       "    }\n",
       "\n",
       "    .dataframe thead th {\n",
       "        text-align: right;\n",
       "    }\n",
       "</style>\n",
       "<table border=\"1\" class=\"dataframe\">\n",
       "  <thead>\n",
       "    <tr style=\"text-align: right;\">\n",
       "      <th></th>\n",
       "      <th>subjects</th>\n",
       "      <th>sem1</th>\n",
       "      <th>sem2</th>\n",
       "      <th>subjects</th>\n",
       "      <th>sem3</th>\n",
       "    </tr>\n",
       "  </thead>\n",
       "  <tbody>\n",
       "    <tr>\n",
       "      <th>0</th>\n",
       "      <td>math</td>\n",
       "      <td>60</td>\n",
       "      <td>63</td>\n",
       "      <td>math</td>\n",
       "      <td>88</td>\n",
       "    </tr>\n",
       "    <tr>\n",
       "      <th>1</th>\n",
       "      <td>physics</td>\n",
       "      <td>70</td>\n",
       "      <td>71</td>\n",
       "      <td>physics</td>\n",
       "      <td>50</td>\n",
       "    </tr>\n",
       "    <tr>\n",
       "      <th>2</th>\n",
       "      <td>chemistry</td>\n",
       "      <td>80</td>\n",
       "      <td>85</td>\n",
       "      <td>chemistry</td>\n",
       "      <td>64</td>\n",
       "    </tr>\n",
       "    <tr>\n",
       "      <th>3</th>\n",
       "      <td>biology</td>\n",
       "      <td>90</td>\n",
       "      <td>89</td>\n",
       "      <td>biology</td>\n",
       "      <td>81</td>\n",
       "    </tr>\n",
       "  </tbody>\n",
       "</table>\n",
       "</div>"
      ],
      "text/plain": [
       "    subjects  sem1  sem2   subjects  sem3\n",
       "0       math    60    63       math    88\n",
       "1    physics    70    71    physics    50\n",
       "2  chemistry    80    85  chemistry    64\n",
       "3    biology    90    89    biology    81"
      ]
     },
     "execution_count": 142,
     "metadata": {},
     "output_type": "execute_result"
    }
   ],
   "source": [
    "# create additional DataFrame\n",
    "sem3_scores = {\n",
    "                'subjects': ['physics', 'chemistry', 'math', 'biology'], \n",
    "                'sem3': [50, 64, 88, 81]                \n",
    "                }\n",
    "# Rearrange the indexes\n",
    "sem3_scores_df = pd.DataFrame(sem3_scores, index=[1,2,0,3])\n",
    "                                                 \n",
    "df = pd.concat([david_df, sem3_scores_df], axis = 1)\n",
    "df"
   ]
  },
  {
   "cell_type": "markdown",
   "id": "f80b2b25-426d-47b4-90b7-f91398118b90",
   "metadata": {},
   "source": [
    "## 4.3 Concatenate DataFrames and Series <a class=\"anchor\" id=\"section_4_3\"></a>\n",
    "\n",
    "Of course, pandas can also concatenate a Series to an excisting DataFrame. Lets try this..."
   ]
  },
  {
   "cell_type": "code",
   "execution_count": 63,
   "id": "2c6a0bde-1634-4a4b-bb01-86ecc644ad49",
   "metadata": {},
   "outputs": [
    {
     "data": {
      "text/plain": [
       "0    88\n",
       "1    76\n",
       "2    74\n",
       "3    72\n",
       "Name: sem4, dtype: int64"
      ]
     },
     "execution_count": 143,
     "metadata": {},
     "output_type": "execute_result"
    }
   ],
   "source": [
    "s = pd.Series([88, 76, 74, 72], name = 'sem4')\n",
    "s"
   ]
  },
  {
   "cell_type": "code",
   "execution_count": 64,
   "id": "c304bb3d-8e2f-4279-9206-96befd0a9b58",
   "metadata": {},
   "outputs": [
    {
     "data": {
      "text/html": [
       "<div>\n",
       "<style scoped>\n",
       "    .dataframe tbody tr th:only-of-type {\n",
       "        vertical-align: middle;\n",
       "    }\n",
       "\n",
       "    .dataframe tbody tr th {\n",
       "        vertical-align: top;\n",
       "    }\n",
       "\n",
       "    .dataframe thead th {\n",
       "        text-align: right;\n",
       "    }\n",
       "</style>\n",
       "<table border=\"1\" class=\"dataframe\">\n",
       "  <thead>\n",
       "    <tr style=\"text-align: right;\">\n",
       "      <th></th>\n",
       "      <th>subjects</th>\n",
       "      <th>sem1</th>\n",
       "      <th>sem2</th>\n",
       "      <th>sem4</th>\n",
       "    </tr>\n",
       "  </thead>\n",
       "  <tbody>\n",
       "    <tr>\n",
       "      <th>0</th>\n",
       "      <td>math</td>\n",
       "      <td>60</td>\n",
       "      <td>63</td>\n",
       "      <td>88</td>\n",
       "    </tr>\n",
       "    <tr>\n",
       "      <th>1</th>\n",
       "      <td>physics</td>\n",
       "      <td>70</td>\n",
       "      <td>71</td>\n",
       "      <td>76</td>\n",
       "    </tr>\n",
       "    <tr>\n",
       "      <th>2</th>\n",
       "      <td>chemistry</td>\n",
       "      <td>80</td>\n",
       "      <td>85</td>\n",
       "      <td>74</td>\n",
       "    </tr>\n",
       "    <tr>\n",
       "      <th>3</th>\n",
       "      <td>biology</td>\n",
       "      <td>90</td>\n",
       "      <td>89</td>\n",
       "      <td>72</td>\n",
       "    </tr>\n",
       "  </tbody>\n",
       "</table>\n",
       "</div>"
      ],
      "text/plain": [
       "    subjects  sem1  sem2  sem4\n",
       "0       math    60    63    88\n",
       "1    physics    70    71    76\n",
       "2  chemistry    80    85    74\n",
       "3    biology    90    89    72"
      ]
     },
     "execution_count": 144,
     "metadata": {},
     "output_type": "execute_result"
    }
   ],
   "source": [
    "df = pd.concat([david_df, s], axis = 1)\n",
    "df"
   ]
  },
  {
   "cell_type": "markdown",
   "id": "ba4e9a36-1f1e-4b7a-9a24-206e65af979c",
   "metadata": {},
   "source": [
    "## 4.4 Concatenating multiple DataFrames and Series <a class=\"anchor\" id=\"section_4_4\"></a>\n",
    "\n",
    "Now lets try to concatenate a combination of multiple DataFrames and Series."
   ]
  },
  {
   "cell_type": "code",
   "execution_count": 65,
   "id": "7ee60ca0-2586-4905-ab80-6aae4a282922",
   "metadata": {},
   "outputs": [
    {
     "data": {
      "text/html": [
       "<div>\n",
       "<style scoped>\n",
       "    .dataframe tbody tr th:only-of-type {\n",
       "        vertical-align: middle;\n",
       "    }\n",
       "\n",
       "    .dataframe tbody tr th {\n",
       "        vertical-align: top;\n",
       "    }\n",
       "\n",
       "    .dataframe thead th {\n",
       "        text-align: right;\n",
       "    }\n",
       "</style>\n",
       "<table border=\"1\" class=\"dataframe\">\n",
       "  <thead>\n",
       "    <tr style=\"text-align: right;\">\n",
       "      <th></th>\n",
       "      <th>subjects</th>\n",
       "      <th>sem1</th>\n",
       "      <th>sem2</th>\n",
       "      <th>sem3</th>\n",
       "      <th>sem4</th>\n",
       "    </tr>\n",
       "  </thead>\n",
       "  <tbody>\n",
       "    <tr>\n",
       "      <th>0</th>\n",
       "      <td>math</td>\n",
       "      <td>60</td>\n",
       "      <td>63</td>\n",
       "      <td>88</td>\n",
       "      <td>88</td>\n",
       "    </tr>\n",
       "    <tr>\n",
       "      <th>1</th>\n",
       "      <td>physics</td>\n",
       "      <td>70</td>\n",
       "      <td>71</td>\n",
       "      <td>50</td>\n",
       "      <td>76</td>\n",
       "    </tr>\n",
       "    <tr>\n",
       "      <th>2</th>\n",
       "      <td>chemistry</td>\n",
       "      <td>80</td>\n",
       "      <td>85</td>\n",
       "      <td>64</td>\n",
       "      <td>74</td>\n",
       "    </tr>\n",
       "    <tr>\n",
       "      <th>3</th>\n",
       "      <td>biology</td>\n",
       "      <td>90</td>\n",
       "      <td>89</td>\n",
       "      <td>81</td>\n",
       "      <td>72</td>\n",
       "    </tr>\n",
       "  </tbody>\n",
       "</table>\n",
       "</div>"
      ],
      "text/plain": [
       "    subjects  sem1  sem2  sem3  sem4\n",
       "0       math    60    63    88    88\n",
       "1    physics    70    71    50    76\n",
       "2  chemistry    80    85    64    74\n",
       "3    biology    90    89    81    72"
      ]
     },
     "execution_count": 145,
     "metadata": {},
     "output_type": "execute_result"
    }
   ],
   "source": [
    "df = pd.concat([david_df, sem3_scores_df['sem3'], s], axis = 1)\n",
    "df"
   ]
  },
  {
   "cell_type": "markdown",
   "id": "9ff27548-15f7-4dc0-8078-c806667cae2c",
   "metadata": {},
   "source": [
    "# 5. Sorting data in a DataFrame <a class=\"anchor\" id=\"chapter5\"></a>"
   ]
  },
  {
   "cell_type": "markdown",
   "id": "215d801b-0645-46f2-b87b-01436c8b3084",
   "metadata": {},
   "source": [
    "Pandas provides a function *sort_values()* to perform various sorting operations on DataFrames."
   ]
  },
  {
   "cell_type": "code",
   "execution_count": 66,
   "id": "2926bc19-f05b-48e1-9ed2-c3add9d17032",
   "metadata": {},
   "outputs": [
    {
     "data": {
      "text/html": [
       "<div>\n",
       "<style scoped>\n",
       "    .dataframe tbody tr th:only-of-type {\n",
       "        vertical-align: middle;\n",
       "    }\n",
       "\n",
       "    .dataframe tbody tr th {\n",
       "        vertical-align: top;\n",
       "    }\n",
       "\n",
       "    .dataframe thead th {\n",
       "        text-align: right;\n",
       "    }\n",
       "</style>\n",
       "<table border=\"1\" class=\"dataframe\">\n",
       "  <thead>\n",
       "    <tr style=\"text-align: right;\">\n",
       "      <th></th>\n",
       "      <th>alphabet</th>\n",
       "      <th>numerical</th>\n",
       "      <th>numerical2</th>\n",
       "    </tr>\n",
       "  </thead>\n",
       "  <tbody>\n",
       "    <tr>\n",
       "      <th>0</th>\n",
       "      <td>d</td>\n",
       "      <td>1.0</td>\n",
       "      <td>1</td>\n",
       "    </tr>\n",
       "    <tr>\n",
       "      <th>1</th>\n",
       "      <td>p</td>\n",
       "      <td>2.0</td>\n",
       "      <td>5</td>\n",
       "    </tr>\n",
       "    <tr>\n",
       "      <th>2</th>\n",
       "      <td>b</td>\n",
       "      <td>NaN</td>\n",
       "      <td>5</td>\n",
       "    </tr>\n",
       "    <tr>\n",
       "      <th>3</th>\n",
       "      <td>s</td>\n",
       "      <td>6.0</td>\n",
       "      <td>8</td>\n",
       "    </tr>\n",
       "    <tr>\n",
       "      <th>4</th>\n",
       "      <td>k</td>\n",
       "      <td>7.0</td>\n",
       "      <td>4</td>\n",
       "    </tr>\n",
       "    <tr>\n",
       "      <th>5</th>\n",
       "      <td>g</td>\n",
       "      <td>10.0</td>\n",
       "      <td>9</td>\n",
       "    </tr>\n",
       "    <tr>\n",
       "      <th>6</th>\n",
       "      <td>l</td>\n",
       "      <td>4.0</td>\n",
       "      <td>9</td>\n",
       "    </tr>\n",
       "    <tr>\n",
       "      <th>7</th>\n",
       "      <td>a</td>\n",
       "      <td>3.0</td>\n",
       "      <td>3</td>\n",
       "    </tr>\n",
       "    <tr>\n",
       "      <th>8</th>\n",
       "      <td>e</td>\n",
       "      <td>5.0</td>\n",
       "      <td>3</td>\n",
       "    </tr>\n",
       "    <tr>\n",
       "      <th>9</th>\n",
       "      <td>h</td>\n",
       "      <td>8.0</td>\n",
       "      <td>5</td>\n",
       "    </tr>\n",
       "  </tbody>\n",
       "</table>\n",
       "</div>"
      ],
      "text/plain": [
       "  alphabet  numerical  numerical2\n",
       "0        d        1.0           1\n",
       "1        p        2.0           5\n",
       "2        b        NaN           5\n",
       "3        s        6.0           8\n",
       "4        k        7.0           4\n",
       "5        g       10.0           9\n",
       "6        l        4.0           9\n",
       "7        a        3.0           3\n",
       "8        e        5.0           3\n",
       "9        h        8.0           5"
      ]
     },
     "execution_count": 146,
     "metadata": {},
     "output_type": "execute_result"
    }
   ],
   "source": [
    "import numpy as np\n",
    "# creat a DataFrame\n",
    "\n",
    "df = pd.DataFrame(\n",
    "    {'alphabet': list('dpbskglaeh'),\n",
    "     'numerical': [1, 2, np.nan, 6, 7, 10, 4, 3, 5, 8],\n",
    "     'numerical2': [1, 5, 5, 8, 4, 9, 9, 3, 3, 5]})\n",
    "\n",
    "df"
   ]
  },
  {
   "cell_type": "markdown",
   "id": "cc7542f1-93f4-4677-9817-f43d930d5427",
   "metadata": {},
   "source": [
    "## 5.1 Sort columns  <a class=\"anchor\" id=\"section_5_1\"></a>\n",
    "\n",
    "Sorting is mostly performed on columns, which can be identified by axis = 0. We will only cover column-wise sorting in this tutorial, but you could sort rows as well. Just specify axis = 1 instead."
   ]
  },
  {
   "cell_type": "code",
   "execution_count": 80,
   "id": "4acad7a7-92de-4b7c-85d2-faf5fef9f28f",
   "metadata": {},
   "outputs": [
    {
     "data": {
      "text/html": [
       "<div>\n",
       "<style scoped>\n",
       "    .dataframe tbody tr th:only-of-type {\n",
       "        vertical-align: middle;\n",
       "    }\n",
       "\n",
       "    .dataframe tbody tr th {\n",
       "        vertical-align: top;\n",
       "    }\n",
       "\n",
       "    .dataframe thead th {\n",
       "        text-align: right;\n",
       "    }\n",
       "</style>\n",
       "<table border=\"1\" class=\"dataframe\">\n",
       "  <thead>\n",
       "    <tr style=\"text-align: right;\">\n",
       "      <th></th>\n",
       "      <th>alphabet</th>\n",
       "      <th>numerical</th>\n",
       "      <th>numerical2</th>\n",
       "    </tr>\n",
       "  </thead>\n",
       "  <tbody>\n",
       "    <tr>\n",
       "      <th>7</th>\n",
       "      <td>a</td>\n",
       "      <td>3.0</td>\n",
       "      <td>3</td>\n",
       "    </tr>\n",
       "    <tr>\n",
       "      <th>2</th>\n",
       "      <td>b</td>\n",
       "      <td>NaN</td>\n",
       "      <td>5</td>\n",
       "    </tr>\n",
       "    <tr>\n",
       "      <th>0</th>\n",
       "      <td>d</td>\n",
       "      <td>1.0</td>\n",
       "      <td>1</td>\n",
       "    </tr>\n",
       "    <tr>\n",
       "      <th>8</th>\n",
       "      <td>e</td>\n",
       "      <td>5.0</td>\n",
       "      <td>3</td>\n",
       "    </tr>\n",
       "    <tr>\n",
       "      <th>5</th>\n",
       "      <td>g</td>\n",
       "      <td>10.0</td>\n",
       "      <td>9</td>\n",
       "    </tr>\n",
       "    <tr>\n",
       "      <th>9</th>\n",
       "      <td>h</td>\n",
       "      <td>8.0</td>\n",
       "      <td>5</td>\n",
       "    </tr>\n",
       "    <tr>\n",
       "      <th>4</th>\n",
       "      <td>k</td>\n",
       "      <td>7.0</td>\n",
       "      <td>4</td>\n",
       "    </tr>\n",
       "    <tr>\n",
       "      <th>6</th>\n",
       "      <td>l</td>\n",
       "      <td>4.0</td>\n",
       "      <td>9</td>\n",
       "    </tr>\n",
       "    <tr>\n",
       "      <th>1</th>\n",
       "      <td>p</td>\n",
       "      <td>2.0</td>\n",
       "      <td>5</td>\n",
       "    </tr>\n",
       "    <tr>\n",
       "      <th>3</th>\n",
       "      <td>s</td>\n",
       "      <td>6.0</td>\n",
       "      <td>8</td>\n",
       "    </tr>\n",
       "  </tbody>\n",
       "</table>\n",
       "</div>"
      ],
      "text/plain": [
       "  alphabet  numerical  numerical2\n",
       "7        a        3.0           3\n",
       "2        b        NaN           5\n",
       "0        d        1.0           1\n",
       "8        e        5.0           3\n",
       "5        g       10.0           9\n",
       "9        h        8.0           5\n",
       "4        k        7.0           4\n",
       "6        l        4.0           9\n",
       "1        p        2.0           5\n",
       "3        s        6.0           8"
      ]
     },
     "execution_count": 147,
     "metadata": {},
     "output_type": "execute_result"
    }
   ],
   "source": [
    "df.sort_values('alphabet')\n",
    " \n",
    "#There are two alternative ways of sorting the columns.\n",
    "#All three lead to the same result though.\n",
    "\n",
    "#df.sort_values(by = ['alphabet'])\n",
    "\n",
    "#or\n",
    "\n",
    "#df.sort_values(by = 'alphabet')\n"
   ]
  },
  {
   "cell_type": "markdown",
   "id": "e31de776-af32-4f4c-aa68-d93f1d64d2c8",
   "metadata": {},
   "source": [
    "As you can see, the alphabet column is perfectly sorted in ascenting order, staring from the letter a.\n",
    "The sort_values() function accept an argument ascending, which is True by default. Setting this argument to False lets us sort in descending order."
   ]
  },
  {
   "cell_type": "code",
   "execution_count": 81,
   "id": "26905c45-d9a7-478d-b4cc-7128220c5238",
   "metadata": {},
   "outputs": [
    {
     "data": {
      "text/html": [
       "<div>\n",
       "<style scoped>\n",
       "    .dataframe tbody tr th:only-of-type {\n",
       "        vertical-align: middle;\n",
       "    }\n",
       "\n",
       "    .dataframe tbody tr th {\n",
       "        vertical-align: top;\n",
       "    }\n",
       "\n",
       "    .dataframe thead th {\n",
       "        text-align: right;\n",
       "    }\n",
       "</style>\n",
       "<table border=\"1\" class=\"dataframe\">\n",
       "  <thead>\n",
       "    <tr style=\"text-align: right;\">\n",
       "      <th></th>\n",
       "      <th>alphabet</th>\n",
       "      <th>numerical</th>\n",
       "      <th>numerical2</th>\n",
       "    </tr>\n",
       "  </thead>\n",
       "  <tbody>\n",
       "    <tr>\n",
       "      <th>3</th>\n",
       "      <td>s</td>\n",
       "      <td>6.0</td>\n",
       "      <td>8</td>\n",
       "    </tr>\n",
       "    <tr>\n",
       "      <th>1</th>\n",
       "      <td>p</td>\n",
       "      <td>2.0</td>\n",
       "      <td>5</td>\n",
       "    </tr>\n",
       "    <tr>\n",
       "      <th>6</th>\n",
       "      <td>l</td>\n",
       "      <td>4.0</td>\n",
       "      <td>9</td>\n",
       "    </tr>\n",
       "    <tr>\n",
       "      <th>4</th>\n",
       "      <td>k</td>\n",
       "      <td>7.0</td>\n",
       "      <td>4</td>\n",
       "    </tr>\n",
       "    <tr>\n",
       "      <th>9</th>\n",
       "      <td>h</td>\n",
       "      <td>8.0</td>\n",
       "      <td>5</td>\n",
       "    </tr>\n",
       "    <tr>\n",
       "      <th>5</th>\n",
       "      <td>g</td>\n",
       "      <td>10.0</td>\n",
       "      <td>9</td>\n",
       "    </tr>\n",
       "    <tr>\n",
       "      <th>8</th>\n",
       "      <td>e</td>\n",
       "      <td>5.0</td>\n",
       "      <td>3</td>\n",
       "    </tr>\n",
       "    <tr>\n",
       "      <th>0</th>\n",
       "      <td>d</td>\n",
       "      <td>1.0</td>\n",
       "      <td>1</td>\n",
       "    </tr>\n",
       "    <tr>\n",
       "      <th>2</th>\n",
       "      <td>b</td>\n",
       "      <td>NaN</td>\n",
       "      <td>5</td>\n",
       "    </tr>\n",
       "    <tr>\n",
       "      <th>7</th>\n",
       "      <td>a</td>\n",
       "      <td>3.0</td>\n",
       "      <td>3</td>\n",
       "    </tr>\n",
       "  </tbody>\n",
       "</table>\n",
       "</div>"
      ],
      "text/plain": [
       "  alphabet  numerical  numerical2\n",
       "3        s        6.0           8\n",
       "1        p        2.0           5\n",
       "6        l        4.0           9\n",
       "4        k        7.0           4\n",
       "9        h        8.0           5\n",
       "5        g       10.0           9\n",
       "8        e        5.0           3\n",
       "0        d        1.0           1\n",
       "2        b        NaN           5\n",
       "7        a        3.0           3"
      ]
     },
     "execution_count": 148,
     "metadata": {},
     "output_type": "execute_result"
    }
   ],
   "source": [
    "df.sort_values(by = 'alphabet', ascending = False)"
   ]
  },
  {
   "cell_type": "markdown",
   "id": "50e040f9-1a35-4d0f-b0d3-01c873d0f94b",
   "metadata": {},
   "source": [
    "## 5.2 Sorting multiple columns <a class=\"anchor\" id=\"section_5_2\"></a>\n",
    "\n",
    "The *sort_values()* function accepts multiple arguments, meaning we can use multiple columns for sorting. The first given column is the preferred on. If column 1 has the same value as column 2, column 2 is used for sorting instead.\n"
   ]
  },
  {
   "cell_type": "code",
   "execution_count": 82,
   "id": "05060ca0-a8cc-471f-9b05-47496cdbdde3",
   "metadata": {},
   "outputs": [
    {
     "data": {
      "text/html": [
       "<div>\n",
       "<style scoped>\n",
       "    .dataframe tbody tr th:only-of-type {\n",
       "        vertical-align: middle;\n",
       "    }\n",
       "\n",
       "    .dataframe tbody tr th {\n",
       "        vertical-align: top;\n",
       "    }\n",
       "\n",
       "    .dataframe thead th {\n",
       "        text-align: right;\n",
       "    }\n",
       "</style>\n",
       "<table border=\"1\" class=\"dataframe\">\n",
       "  <thead>\n",
       "    <tr style=\"text-align: right;\">\n",
       "      <th></th>\n",
       "      <th>alphabet</th>\n",
       "      <th>numerical</th>\n",
       "      <th>numerical2</th>\n",
       "    </tr>\n",
       "  </thead>\n",
       "  <tbody>\n",
       "    <tr>\n",
       "      <th>7</th>\n",
       "      <td>a</td>\n",
       "      <td>3.0</td>\n",
       "      <td>3</td>\n",
       "    </tr>\n",
       "    <tr>\n",
       "      <th>2</th>\n",
       "      <td>b</td>\n",
       "      <td>NaN</td>\n",
       "      <td>5</td>\n",
       "    </tr>\n",
       "    <tr>\n",
       "      <th>0</th>\n",
       "      <td>d</td>\n",
       "      <td>1.0</td>\n",
       "      <td>1</td>\n",
       "    </tr>\n",
       "    <tr>\n",
       "      <th>8</th>\n",
       "      <td>e</td>\n",
       "      <td>5.0</td>\n",
       "      <td>3</td>\n",
       "    </tr>\n",
       "    <tr>\n",
       "      <th>5</th>\n",
       "      <td>g</td>\n",
       "      <td>10.0</td>\n",
       "      <td>9</td>\n",
       "    </tr>\n",
       "    <tr>\n",
       "      <th>9</th>\n",
       "      <td>h</td>\n",
       "      <td>8.0</td>\n",
       "      <td>5</td>\n",
       "    </tr>\n",
       "    <tr>\n",
       "      <th>4</th>\n",
       "      <td>k</td>\n",
       "      <td>7.0</td>\n",
       "      <td>4</td>\n",
       "    </tr>\n",
       "    <tr>\n",
       "      <th>6</th>\n",
       "      <td>l</td>\n",
       "      <td>4.0</td>\n",
       "      <td>9</td>\n",
       "    </tr>\n",
       "    <tr>\n",
       "      <th>1</th>\n",
       "      <td>p</td>\n",
       "      <td>2.0</td>\n",
       "      <td>5</td>\n",
       "    </tr>\n",
       "    <tr>\n",
       "      <th>3</th>\n",
       "      <td>s</td>\n",
       "      <td>6.0</td>\n",
       "      <td>8</td>\n",
       "    </tr>\n",
       "  </tbody>\n",
       "</table>\n",
       "</div>"
      ],
      "text/plain": [
       "  alphabet  numerical  numerical2\n",
       "7        a        3.0           3\n",
       "2        b        NaN           5\n",
       "0        d        1.0           1\n",
       "8        e        5.0           3\n",
       "5        g       10.0           9\n",
       "9        h        8.0           5\n",
       "4        k        7.0           4\n",
       "6        l        4.0           9\n",
       "1        p        2.0           5\n",
       "3        s        6.0           8"
      ]
     },
     "execution_count": 149,
     "metadata": {},
     "output_type": "execute_result"
    }
   ],
   "source": [
    "df.sort_values(by=['alphabet', 'numerical2'])"
   ]
  },
  {
   "cell_type": "markdown",
   "id": "a5e85eee-5195-48c6-877b-9a561ec4540d",
   "metadata": {},
   "source": [
    "## 5.3 Missing values <a class=\"anchor\" id=\"section_5_3\"></a>\n",
    "\n",
    "We can see that the second column named 'numerical' has a NaN value. During sorting we can choose where we want to position missing values."
   ]
  },
  {
   "cell_type": "code",
   "execution_count": 83,
   "id": "a227c3da-ee8a-4d3e-b6bf-36cef87c30f9",
   "metadata": {},
   "outputs": [
    {
     "data": {
      "text/html": [
       "<div>\n",
       "<style scoped>\n",
       "    .dataframe tbody tr th:only-of-type {\n",
       "        vertical-align: middle;\n",
       "    }\n",
       "\n",
       "    .dataframe tbody tr th {\n",
       "        vertical-align: top;\n",
       "    }\n",
       "\n",
       "    .dataframe thead th {\n",
       "        text-align: right;\n",
       "    }\n",
       "</style>\n",
       "<table border=\"1\" class=\"dataframe\">\n",
       "  <thead>\n",
       "    <tr style=\"text-align: right;\">\n",
       "      <th></th>\n",
       "      <th>alphabet</th>\n",
       "      <th>numerical</th>\n",
       "      <th>numerical2</th>\n",
       "    </tr>\n",
       "  </thead>\n",
       "  <tbody>\n",
       "    <tr>\n",
       "      <th>0</th>\n",
       "      <td>d</td>\n",
       "      <td>1.0</td>\n",
       "      <td>1</td>\n",
       "    </tr>\n",
       "    <tr>\n",
       "      <th>1</th>\n",
       "      <td>p</td>\n",
       "      <td>2.0</td>\n",
       "      <td>5</td>\n",
       "    </tr>\n",
       "    <tr>\n",
       "      <th>7</th>\n",
       "      <td>a</td>\n",
       "      <td>3.0</td>\n",
       "      <td>3</td>\n",
       "    </tr>\n",
       "    <tr>\n",
       "      <th>6</th>\n",
       "      <td>l</td>\n",
       "      <td>4.0</td>\n",
       "      <td>9</td>\n",
       "    </tr>\n",
       "    <tr>\n",
       "      <th>8</th>\n",
       "      <td>e</td>\n",
       "      <td>5.0</td>\n",
       "      <td>3</td>\n",
       "    </tr>\n",
       "    <tr>\n",
       "      <th>3</th>\n",
       "      <td>s</td>\n",
       "      <td>6.0</td>\n",
       "      <td>8</td>\n",
       "    </tr>\n",
       "    <tr>\n",
       "      <th>4</th>\n",
       "      <td>k</td>\n",
       "      <td>7.0</td>\n",
       "      <td>4</td>\n",
       "    </tr>\n",
       "    <tr>\n",
       "      <th>9</th>\n",
       "      <td>h</td>\n",
       "      <td>8.0</td>\n",
       "      <td>5</td>\n",
       "    </tr>\n",
       "    <tr>\n",
       "      <th>5</th>\n",
       "      <td>g</td>\n",
       "      <td>10.0</td>\n",
       "      <td>9</td>\n",
       "    </tr>\n",
       "    <tr>\n",
       "      <th>2</th>\n",
       "      <td>b</td>\n",
       "      <td>NaN</td>\n",
       "      <td>5</td>\n",
       "    </tr>\n",
       "  </tbody>\n",
       "</table>\n",
       "</div>"
      ],
      "text/plain": [
       "  alphabet  numerical  numerical2\n",
       "0        d        1.0           1\n",
       "1        p        2.0           5\n",
       "7        a        3.0           3\n",
       "6        l        4.0           9\n",
       "8        e        5.0           3\n",
       "3        s        6.0           8\n",
       "4        k        7.0           4\n",
       "9        h        8.0           5\n",
       "5        g       10.0           9\n",
       "2        b        NaN           5"
      ]
     },
     "execution_count": 150,
     "metadata": {},
     "output_type": "execute_result"
    }
   ],
   "source": [
    "df.sort_values(by = ['numerical'])"
   ]
  },
  {
   "cell_type": "markdown",
   "id": "fc20a932-427c-486d-8458-de49c0c11283",
   "metadata": {},
   "source": [
    "By default, missing values are placed at the end of the column. If you want to place them first, provide the *sort_values()* function with the na_position argument."
   ]
  },
  {
   "cell_type": "code",
   "execution_count": 84,
   "id": "c842382b-c568-419a-9f05-8a98b05330f7",
   "metadata": {},
   "outputs": [
    {
     "data": {
      "text/html": [
       "<div>\n",
       "<style scoped>\n",
       "    .dataframe tbody tr th:only-of-type {\n",
       "        vertical-align: middle;\n",
       "    }\n",
       "\n",
       "    .dataframe tbody tr th {\n",
       "        vertical-align: top;\n",
       "    }\n",
       "\n",
       "    .dataframe thead th {\n",
       "        text-align: right;\n",
       "    }\n",
       "</style>\n",
       "<table border=\"1\" class=\"dataframe\">\n",
       "  <thead>\n",
       "    <tr style=\"text-align: right;\">\n",
       "      <th></th>\n",
       "      <th>alphabet</th>\n",
       "      <th>numerical</th>\n",
       "      <th>numerical2</th>\n",
       "    </tr>\n",
       "  </thead>\n",
       "  <tbody>\n",
       "    <tr>\n",
       "      <th>2</th>\n",
       "      <td>b</td>\n",
       "      <td>NaN</td>\n",
       "      <td>5</td>\n",
       "    </tr>\n",
       "    <tr>\n",
       "      <th>0</th>\n",
       "      <td>d</td>\n",
       "      <td>1.0</td>\n",
       "      <td>1</td>\n",
       "    </tr>\n",
       "    <tr>\n",
       "      <th>1</th>\n",
       "      <td>p</td>\n",
       "      <td>2.0</td>\n",
       "      <td>5</td>\n",
       "    </tr>\n",
       "    <tr>\n",
       "      <th>7</th>\n",
       "      <td>a</td>\n",
       "      <td>3.0</td>\n",
       "      <td>3</td>\n",
       "    </tr>\n",
       "    <tr>\n",
       "      <th>6</th>\n",
       "      <td>l</td>\n",
       "      <td>4.0</td>\n",
       "      <td>9</td>\n",
       "    </tr>\n",
       "    <tr>\n",
       "      <th>8</th>\n",
       "      <td>e</td>\n",
       "      <td>5.0</td>\n",
       "      <td>3</td>\n",
       "    </tr>\n",
       "    <tr>\n",
       "      <th>3</th>\n",
       "      <td>s</td>\n",
       "      <td>6.0</td>\n",
       "      <td>8</td>\n",
       "    </tr>\n",
       "    <tr>\n",
       "      <th>4</th>\n",
       "      <td>k</td>\n",
       "      <td>7.0</td>\n",
       "      <td>4</td>\n",
       "    </tr>\n",
       "    <tr>\n",
       "      <th>9</th>\n",
       "      <td>h</td>\n",
       "      <td>8.0</td>\n",
       "      <td>5</td>\n",
       "    </tr>\n",
       "    <tr>\n",
       "      <th>5</th>\n",
       "      <td>g</td>\n",
       "      <td>10.0</td>\n",
       "      <td>9</td>\n",
       "    </tr>\n",
       "  </tbody>\n",
       "</table>\n",
       "</div>"
      ],
      "text/plain": [
       "  alphabet  numerical  numerical2\n",
       "2        b        NaN           5\n",
       "0        d        1.0           1\n",
       "1        p        2.0           5\n",
       "7        a        3.0           3\n",
       "6        l        4.0           9\n",
       "8        e        5.0           3\n",
       "3        s        6.0           8\n",
       "4        k        7.0           4\n",
       "9        h        8.0           5\n",
       "5        g       10.0           9"
      ]
     },
     "execution_count": 151,
     "metadata": {},
     "output_type": "execute_result"
    }
   ],
   "source": [
    "df.sort_values(by = ['numerical'], na_position = 'first')"
   ]
  },
  {
   "cell_type": "markdown",
   "id": "2f7eecfd-c11f-4b17-b89c-c576ebe074fd",
   "metadata": {},
   "source": [
    "# 6. Conclusion <a class=\"anchor\" id=\"chapter6\"></a>\n",
    "\n",
    "In this part of the tutorial we have seen how to create Series and Dataframes, how to read csv and text files into pandas. We also performed basic operations on rows and columns and learned how to group and sort data.\n",
    "\n",
    "In the next part we will take a look on merge operations, how to handle missing data in Pandas and how we can drop columns from a DataFrame."
   ]
  }
 ],
 "metadata": {
  "kernelspec": {
   "display_name": "Python 3",
   "language": "python",
   "name": "python3"
  },
  "language_info": {
   "codemirror_mode": {
    "name": "ipython",
    "version": 3
   },
   "file_extension": ".py",
   "mimetype": "text/x-python",
   "name": "python",
   "nbconvert_exporter": "python",
   "pygments_lexer": "ipython3",
   "version": "3.10.2"
  }
 },
 "nbformat": 4,
 "nbformat_minor": 5
}
